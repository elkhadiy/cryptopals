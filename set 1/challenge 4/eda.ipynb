{
 "cells": [
  {
   "cell_type": "code",
   "execution_count": 46,
   "metadata": {},
   "outputs": [],
   "source": [
    "import numpy as np\n",
    "from scipy.spatial import distance\n",
    "\n",
    "def hexdec(s):\n",
    "    return bytes.fromhex(s)\n",
    "\n",
    "def fixed_xor(b1, b2):\n",
    "    a = np.frombuffer(b1, 'u1')\n",
    "    b = np.frombuffer(b2, 'u1')\n",
    "    return (a ^ b).tobytes()\n",
    "\n",
    "ascii_hist = lambda s: np.histogram(s, bins=range(128), density=True)[0]\n",
    "\n",
    "with open('t8.shakespeare.txt', 'r') as f:\n",
    "    shks = np.frombuffer(f.read().encode(\"ASCII\"), 'u1')\n",
    "\n",
    "shks_hist = ascii_hist(shks)\n",
    "\n",
    "score = lambda buf: distance.jensenshannon(shks_hist, ascii_hist(np.frombuffer(buf, 'u1')))\n",
    "\n",
    "i2b = lambda i: bytes([i])\n",
    "\n",
    "def break_sb_xor_key(cipher):\n",
    "    evaluation = np.array([score(fixed_xor(cipher, i2b(i) * len(cipher))) for i in range(128)])\n",
    "    return i2b(np.argmin(evaluation))\n",
    "\n",
    "def decipher_sb_xor_key(cipher):\n",
    "    key = break_sb_xor_key(cipher)\n",
    "    return fixed_xor(key, cipher)\n"
   ]
  },
  {
   "cell_type": "code",
   "execution_count": 6,
   "metadata": {},
   "outputs": [],
   "source": [
    "with open(\"4.txt\", \"r\") as f:\n",
    "    ciphers = f.read().splitlines()"
   ]
  },
  {
   "cell_type": "code",
   "execution_count": 48,
   "metadata": {},
   "outputs": [],
   "source": [
    "cipher_scores = np.array([ score(decipher_sb_xor_key(hexdec(cipher))) for cipher in ciphers ])"
   ]
  },
  {
   "cell_type": "code",
   "execution_count": 52,
   "metadata": {},
   "outputs": [
    {
     "data": {
      "text/plain": [
       "b'Now that the party is jumping\\n'"
      ]
     },
     "execution_count": 52,
     "metadata": {},
     "output_type": "execute_result"
    }
   ],
   "source": [
    "decipher_sb_xor_key(hexdec(ciphers[np.argmin(cipher_scores)]))"
   ]
  },
  {
   "cell_type": "code",
   "execution_count": null,
   "metadata": {},
   "outputs": [],
   "source": []
  }
 ],
 "metadata": {
  "kernelspec": {
   "display_name": "latching-4agi86rc-py3.10",
   "language": "python",
   "name": "python3"
  },
  "language_info": {
   "codemirror_mode": {
    "name": "ipython",
    "version": 3
   },
   "file_extension": ".py",
   "mimetype": "text/x-python",
   "name": "python",
   "nbconvert_exporter": "python",
   "pygments_lexer": "ipython3",
   "version": "3.10.6"
  },
  "orig_nbformat": 4
 },
 "nbformat": 4,
 "nbformat_minor": 2
}
