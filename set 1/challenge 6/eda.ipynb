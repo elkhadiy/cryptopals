{
 "cells": [
  {
   "cell_type": "code",
   "execution_count": 45,
   "metadata": {},
   "outputs": [],
   "source": [
    "import numpy as np\n",
    "from scipy.spatial import distance\n",
    "import base64\n",
    "\n",
    "def hexdec(s):\n",
    "    return bytes.fromhex(s)\n",
    "\n",
    "def fixed_xor(b1, b2):\n",
    "    a = np.frombuffer(b1, 'u1')\n",
    "    b = np.frombuffer(b2, 'u1')\n",
    "    return (a ^ b).tobytes()\n",
    "\n",
    "ascii_hist = lambda s: np.histogram(s, bins=range(128), density=True)[0]\n",
    "\n",
    "with open('t8.shakespeare.txt', 'r') as f:\n",
    "    shks = np.frombuffer(f.read().encode(\"ASCII\"), 'u1')\n",
    "\n",
    "shks_hist = ascii_hist(shks)\n",
    "\n",
    "score = lambda buf: distance.jensenshannon(shks_hist, ascii_hist(np.frombuffer(buf, 'u1')))\n",
    "\n",
    "i2b = lambda i: bytes([i])\n",
    "\n",
    "def break_sb_xor_key(cipher):\n",
    "    evaluation = np.array([score(fixed_xor(cipher, i2b(i) * len(cipher))) for i in range(128)])\n",
    "    return i2b(np.argmin(evaluation))\n",
    "\n",
    "def rk_xor_key(plain, k):\n",
    "    N = len(plain)\n",
    "    n = len(k)\n",
    "    return (k * np.ceil(N / n).astype(int))[:N]\n",
    "\n",
    "def vigenere(plain, k):\n",
    "    return fixed_xor(plain, rk_xor_key(plain, k))"
   ]
  },
  {
   "cell_type": "code",
   "execution_count": 5,
   "metadata": {},
   "outputs": [],
   "source": [
    "hamming_distance = lambda x, y: int.from_bytes(fixed_xor(x, y), byteorder='big').bit_count()"
   ]
  },
  {
   "cell_type": "code",
   "execution_count": 6,
   "metadata": {},
   "outputs": [
    {
     "data": {
      "text/plain": [
       "37"
      ]
     },
     "execution_count": 6,
     "metadata": {},
     "output_type": "execute_result"
    }
   ],
   "source": [
    "hamming_distance(b'this is a test', b'wokka wokka!!!')"
   ]
  },
  {
   "cell_type": "code",
   "execution_count": 9,
   "metadata": {},
   "outputs": [
    {
     "data": {
      "text/plain": [
       "40"
      ]
     },
     "execution_count": 9,
     "metadata": {},
     "output_type": "execute_result"
    }
   ],
   "source": [
    "hamming_distance(hexdec('0000000000FFFF'), hexdec('FFFFFFFFFFFFFF'))"
   ]
  },
  {
   "cell_type": "code",
   "execution_count": 14,
   "metadata": {},
   "outputs": [],
   "source": [
    "with open(\"6.txt\", \"rb\") as f:\n",
    "    cipher = base64.decodebytes(f.read())"
   ]
  },
  {
   "cell_type": "code",
   "execution_count": 17,
   "metadata": {},
   "outputs": [],
   "source": [
    "def hamming_score(k_sz, cipher, n = 1):\n",
    "    d = 0\n",
    "    for i in range(n):\n",
    "        d = d + hamming_distance(cipher[i*k_sz:(i+1)*k_sz], cipher[(i+1)*k_sz:(i+2)*k_sz]) / k_sz\n",
    "        d /= 2\n",
    "    return d"
   ]
  },
  {
   "cell_type": "code",
   "execution_count": 36,
   "metadata": {},
   "outputs": [],
   "source": [
    "kz_sweep = np.array([hamming_score(kz, cipher, n=8) for kz in range(2, 41)])\n",
    "kz_sorted = np.sort(kz_sweep)\n",
    "candidate_scores = kz_sorted[:32]\n",
    "candidates = [np.where(kz_sweep == candidate_scores[i])[0][0] + 2 for i in range(32)]"
   ]
  },
  {
   "cell_type": "code",
   "execution_count": 37,
   "metadata": {},
   "outputs": [
    {
     "data": {
      "text/plain": [
       "array([[ 29,  66,  31, ...,   1,  22,  69],\n",
       "       [ 54,   0,  30, ...,  12,  83,  18],\n",
       "       [ 60,  12,  30, ...,   7,  83,   0],\n",
       "       ...,\n",
       "       [ 55,  73,  82, ...,  73,  28,  11],\n",
       "       [120,  69,  49, ...,  73,  30,  16],\n",
       "       [ 39,  12,  17, ...,   0,   0,   0]], dtype=uint8)"
      ]
     },
     "execution_count": 37,
     "metadata": {},
     "output_type": "execute_result"
    }
   ],
   "source": [
    "KEYSIZE = candidates[0]\n",
    "cipherd = np.frombuffer(cipher, 'u1')\n",
    "cipher_slices = np.pad(cipherd, (0, int(np.ceil(cipherd.shape[0] / KEYSIZE) * KEYSIZE - cipherd.shape[0])), mode='constant', constant_values=0).reshape(-1, KEYSIZE)\n",
    "cipher_slices"
   ]
  },
  {
   "cell_type": "code",
   "execution_count": 41,
   "metadata": {},
   "outputs": [
    {
     "data": {
      "text/plain": [
       "b'Terminator X: Bring the noise'"
      ]
     },
     "execution_count": 41,
     "metadata": {},
     "output_type": "execute_result"
    }
   ],
   "source": [
    "key_candidate = b''.join(break_sb_xor_key(cipher_slices.T[i].tobytes()) for i in range(KEYSIZE))\n",
    "key_candidate"
   ]
  },
  {
   "cell_type": "code",
   "execution_count": 46,
   "metadata": {},
   "outputs": [
    {
     "data": {
      "text/plain": [
       "0.17412917534335998"
      ]
     },
     "execution_count": 46,
     "metadata": {},
     "output_type": "execute_result"
    }
   ],
   "source": [
    "score(vigenere(cipher, key_candidate))"
   ]
  },
  {
   "cell_type": "code",
   "execution_count": 53,
   "metadata": {},
   "outputs": [],
   "source": [
    "def break_vigenere(cipher):\n",
    "    kz_sweep = np.array([hamming_score(kz, cipher, n=8) for kz in range(2, 41)])\n",
    "    kz_sorted = np.sort(kz_sweep)\n",
    "    candidate_scores = kz_sorted[:8]\n",
    "    candidates = [np.where(kz_sweep == candidate_scores[i])[0][0] + 2 for i in range(8)]\n",
    "\n",
    "    key_candidates = []\n",
    "\n",
    "    cipherd = np.frombuffer(cipher, 'u1')\n",
    "\n",
    "    for KEYSIZE in candidates:\n",
    "        cipher_slices = np.pad(cipherd, (0, int(np.ceil(cipherd.shape[0] / KEYSIZE) * KEYSIZE - cipherd.shape[0])), mode='constant', constant_values=0).reshape(-1, KEYSIZE)\n",
    "        key_candidate = b''.join(break_sb_xor_key(cipher_slices.T[i].tobytes()) for i in range(KEYSIZE))\n",
    "        key_candidates.append(key_candidate)\n",
    "    \n",
    "    scores = np.array([score(vigenere(cipher, key)) for key in key_candidates])\n",
    "\n",
    "    return key_candidates[np.argmin(scores)]"
   ]
  },
  {
   "cell_type": "code",
   "execution_count": 57,
   "metadata": {},
   "outputs": [
    {
     "name": "stdout",
     "output_type": "stream",
     "text": [
      "I'm back and I'm ringin' the bell \n",
      "A rockin' on the mike while the fly girls yell \n",
      "In ecstasy in the back of me \n",
      "Well that's my DJ Deshay cuttin' all them Z's \n",
      "Hittin' hard and the girlies goin' crazy \n",
      "Vanilla's on the mike, man I'm not lazy. \n",
      "\n",
      "I'm lettin' my drug kick in \n",
      "It controls my mouth and I begin \n",
      "To just let it flow, let my concepts go \n",
      "My posse's to the side yellin', Go Vanilla Go! \n",
      "\n",
      "Smooth 'cause that's the way I will be \n",
      "And if you don't give a damn, then \n",
      "Why you starin' at me \n",
      "So get off 'cause I control the stage \n",
      "There's no dissin' allowed \n",
      "I'm in my own phase \n",
      "The girlies sa y they love me and that is ok \n",
      "And I can dance better than any kid n' play \n",
      "\n",
      "Stage 2 -- Yea the one ya' wanna listen to \n",
      "It's off my head so let the beat play through \n",
      "So I can funk it up and make it sound good \n",
      "1-2-3 Yo -- Knock on some wood \n",
      "For good luck, I like my rhymes atrocious \n",
      "Supercalafragilisticexpialidocious \n",
      "I'm an effect and that you can bet \n",
      "I can take a fly girl and make her wet. \n",
      "\n",
      "I'm like Samson -- Samson to Delilah \n",
      "There's no denyin', You can try to hang \n",
      "But you'll keep tryin' to get my style \n",
      "Over and over, practice makes perfect \n",
      "But not if you're a loafer. \n",
      "\n",
      "You'll get nowhere, no place, no time, no girls \n",
      "Soon -- Oh my God, homebody, you probably eat \n",
      "Spaghetti with a spoon! Come on and say it! \n",
      "\n",
      "VIP. Vanilla Ice yep, yep, I'm comin' hard like a rhino \n",
      "Intoxicating so you stagger like a wino \n",
      "So punks stop trying and girl stop cryin' \n",
      "Vanilla Ice is sellin' and you people are buyin' \n",
      "'Cause why the freaks are jockin' like Crazy Glue \n",
      "Movin' and groovin' trying to sing along \n",
      "All through the ghetto groovin' this here song \n",
      "Now you're amazed by the VIP posse. \n",
      "\n",
      "Steppin' so hard like a German Nazi \n",
      "Startled by the bases hittin' ground \n",
      "There's no trippin' on mine, I'm just gettin' down \n",
      "Sparkamatic, I'm hangin' tight like a fanatic \n",
      "You trapped me once and I thought that \n",
      "You might have it \n",
      "So step down and lend me your ear \n",
      "'89 in my time! You, '90 is my year. \n",
      "\n",
      "You're weakenin' fast, YO! and I can tell it \n",
      "Your body's gettin' hot, so, so I can smell it \n",
      "So don't be mad and don't be sad \n",
      "'Cause the lyrics belong to ICE, You can call me Dad \n",
      "You're pitchin' a fit, so step back and endure \n",
      "Let the witch doctor, Ice, do the dance to cure \n",
      "So come up close and don't be square \n",
      "You wanna battle me -- Anytime, anywhere \n",
      "\n",
      "You thought that I was weak, Boy, you're dead wrong \n",
      "So come on, everybody and sing this song \n",
      "\n",
      "Say -- Play that funky music Say, go white boy, go white boy go \n",
      "play that funky music Go white boy, go white boy, go \n",
      "Lay down and boogie and play that funky music till you die. \n",
      "\n",
      "Play that funky music Come on, Come on, let me hear \n",
      "Play that funky music white boy you say it, say it \n",
      "Play that funky music A little louder now \n",
      "Play that funky music, white boy Come on, Come on, Come on \n",
      "Play that funky music \n",
      "\n"
     ]
    }
   ],
   "source": [
    "print(vigenere(cipher, break_vigenere(cipher)).decode())"
   ]
  },
  {
   "cell_type": "code",
   "execution_count": null,
   "metadata": {},
   "outputs": [],
   "source": []
  }
 ],
 "metadata": {
  "kernelspec": {
   "display_name": "latching-4agi86rc-py3.10",
   "language": "python",
   "name": "python3"
  },
  "language_info": {
   "codemirror_mode": {
    "name": "ipython",
    "version": 3
   },
   "file_extension": ".py",
   "mimetype": "text/x-python",
   "name": "python",
   "nbconvert_exporter": "python",
   "pygments_lexer": "ipython3",
   "version": "3.10.6"
  },
  "orig_nbformat": 4
 },
 "nbformat": 4,
 "nbformat_minor": 2
}
