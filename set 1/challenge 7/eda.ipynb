{
 "cells": [
  {
   "cell_type": "code",
   "execution_count": 42,
   "metadata": {},
   "outputs": [],
   "source": [
    "import numpy as np\n",
    "import base64\n",
    "from functools import cache\n",
    "\n",
    "np.set_printoptions(formatter={'int':lambda i: f\"{i:02x}\".upper()}, linewidth=200)"
   ]
  },
  {
   "cell_type": "code",
   "execution_count": 43,
   "metadata": {},
   "outputs": [],
   "source": [
    "def m(a, b):\n",
    "    \"\"\"Multiplication in GF(2^8)\"\"\"\n",
    "    p = 0\n",
    "    for _ in range(8):\n",
    "        if b & 1 != 0:\n",
    "            p = (p ^ a) & 255\n",
    "        hb = (a & 0x80) != 0\n",
    "        a = (a << 1) & 255\n",
    "        if hb:\n",
    "            a = (a ^ 0x1B) & 255\n",
    "        b = (b >> 1) & 255\n",
    "    return p\n",
    "\n",
    "def mm(A, B):\n",
    "    \"\"\"Matrix Multiplication in GF(2^8)\"\"\"\n",
    "    return np.array([[ np.bitwise_xor.reduce([m(A[i][k], B[k][j]) for k in range(A.shape[0])]) for j in range(B.shape[1])] for i in range(A.shape[0])], dtype=np.uint8)\n",
    "\n",
    "def g(a):\n",
    "    \"\"\"Inverse in GF(2^8)\"\"\"\n",
    "    if a == 0:\n",
    "        return 0\n",
    "    for i in range(256):\n",
    "        if m(a, i) == 1:\n",
    "            return i"
   ]
  },
  {
   "cell_type": "code",
   "execution_count": 44,
   "metadata": {},
   "outputs": [],
   "source": [
    "rotl8 = lambda x, shift: ((x << shift) & 255) | ((x >> (8 - shift)) & 255)\n",
    "\n",
    "f = lambda b: b ^ rotl8(b, 1) ^ rotl8(b, 2) ^ rotl8(b, 3) ^ rotl8(b, 4) ^ 0x63\n",
    "\n",
    "invf = lambda s: rotl8(s, 1) ^ rotl8(s, 3) ^ rotl8(s, 6) ^ 0x5"
   ]
  },
  {
   "cell_type": "code",
   "execution_count": 45,
   "metadata": {},
   "outputs": [
    {
     "data": {
      "text/plain": [
       "array([[63, 7C, 77, 7B, F2, 6B, 6F, C5, 30, 01, 67, 2B, FE, D7, AB, 76],\n",
       "       [CA, 82, C9, 7D, FA, 59, 47, F0, AD, D4, A2, AF, 9C, A4, 72, C0],\n",
       "       [B7, FD, 93, 26, 36, 3F, F7, CC, 34, A5, E5, F1, 71, D8, 31, 15],\n",
       "       [04, C7, 23, C3, 18, 96, 05, 9A, 07, 12, 80, E2, EB, 27, B2, 75],\n",
       "       [09, 83, 2C, 1A, 1B, 6E, 5A, A0, 52, 3B, D6, B3, 29, E3, 2F, 84],\n",
       "       [53, D1, 00, ED, 20, FC, B1, 5B, 6A, CB, BE, 39, 4A, 4C, 58, CF],\n",
       "       [D0, EF, AA, FB, 43, 4D, 33, 85, 45, F9, 02, 7F, 50, 3C, 9F, A8],\n",
       "       [51, A3, 40, 8F, 92, 9D, 38, F5, BC, B6, DA, 21, 10, FF, F3, D2],\n",
       "       [CD, 0C, 13, EC, 5F, 97, 44, 17, C4, A7, 7E, 3D, 64, 5D, 19, 73],\n",
       "       [60, 81, 4F, DC, 22, 2A, 90, 88, 46, EE, B8, 14, DE, 5E, 0B, DB],\n",
       "       [E0, 32, 3A, 0A, 49, 06, 24, 5C, C2, D3, AC, 62, 91, 95, E4, 79],\n",
       "       [E7, C8, 37, 6D, 8D, D5, 4E, A9, 6C, 56, F4, EA, 65, 7A, AE, 08],\n",
       "       [BA, 78, 25, 2E, 1C, A6, B4, C6, E8, DD, 74, 1F, 4B, BD, 8B, 8A],\n",
       "       [70, 3E, B5, 66, 48, 03, F6, 0E, 61, 35, 57, B9, 86, C1, 1D, 9E],\n",
       "       [E1, F8, 98, 11, 69, D9, 8E, 94, 9B, 1E, 87, E9, CE, 55, 28, DF],\n",
       "       [8C, A1, 89, 0D, BF, E6, 42, 68, 41, 99, 2D, 0F, B0, 54, BB, 16]], dtype=uint8)"
      ]
     },
     "execution_count": 45,
     "metadata": {},
     "output_type": "execute_result"
    }
   ],
   "source": [
    "sbox = np.array([[f(g(i << 4 | j)) for j in range(16)] for i in range(16)], dtype=np.uint8)\n",
    "sbox"
   ]
  },
  {
   "cell_type": "code",
   "execution_count": 46,
   "metadata": {},
   "outputs": [
    {
     "data": {
      "text/plain": [
       "array([[52, 09, 6A, D5, 30, 36, A5, 38, BF, 40, A3, 9E, 81, F3, D7, FB],\n",
       "       [7C, E3, 39, 82, 9B, 2F, FF, 87, 34, 8E, 43, 44, C4, DE, E9, CB],\n",
       "       [54, 7B, 94, 32, A6, C2, 23, 3D, EE, 4C, 95, 0B, 42, FA, C3, 4E],\n",
       "       [08, 2E, A1, 66, 28, D9, 24, B2, 76, 5B, A2, 49, 6D, 8B, D1, 25],\n",
       "       [72, F8, F6, 64, 86, 68, 98, 16, D4, A4, 5C, CC, 5D, 65, B6, 92],\n",
       "       [6C, 70, 48, 50, FD, ED, B9, DA, 5E, 15, 46, 57, A7, 8D, 9D, 84],\n",
       "       [90, D8, AB, 00, 8C, BC, D3, 0A, F7, E4, 58, 05, B8, B3, 45, 06],\n",
       "       [D0, 2C, 1E, 8F, CA, 3F, 0F, 02, C1, AF, BD, 03, 01, 13, 8A, 6B],\n",
       "       [3A, 91, 11, 41, 4F, 67, DC, EA, 97, F2, CF, CE, F0, B4, E6, 73],\n",
       "       [96, AC, 74, 22, E7, AD, 35, 85, E2, F9, 37, E8, 1C, 75, DF, 6E],\n",
       "       [47, F1, 1A, 71, 1D, 29, C5, 89, 6F, B7, 62, 0E, AA, 18, BE, 1B],\n",
       "       [FC, 56, 3E, 4B, C6, D2, 79, 20, 9A, DB, C0, FE, 78, CD, 5A, F4],\n",
       "       [1F, DD, A8, 33, 88, 07, C7, 31, B1, 12, 10, 59, 27, 80, EC, 5F],\n",
       "       [60, 51, 7F, A9, 19, B5, 4A, 0D, 2D, E5, 7A, 9F, 93, C9, 9C, EF],\n",
       "       [A0, E0, 3B, 4D, AE, 2A, F5, B0, C8, EB, BB, 3C, 83, 53, 99, 61],\n",
       "       [17, 2B, 04, 7E, BA, 77, D6, 26, E1, 69, 14, 63, 55, 21, 0C, 7D]], dtype=uint8)"
      ]
     },
     "execution_count": 46,
     "metadata": {},
     "output_type": "execute_result"
    }
   ],
   "source": [
    "invsbox = np.array([[g(invf(i << 4 | j)) for j in range(16)] for i in range(16)], dtype=np.uint8)\n",
    "invsbox"
   ]
  },
  {
   "cell_type": "code",
   "execution_count": 47,
   "metadata": {},
   "outputs": [],
   "source": [
    "S = np.vectorize(lambda b: sbox[(b & 0xF0) >> 4][b & 0x0F])\n",
    "iS = np.vectorize(lambda b: invsbox[(b & 0xF0) >> 4][b & 0x0F])"
   ]
  },
  {
   "cell_type": "code",
   "execution_count": 48,
   "metadata": {},
   "outputs": [],
   "source": [
    "rc = np.array([0x01, 0x02, 0x04, 0x08, 0x10, 0x20, 0x40, 0x80, 0x1B, 0x10], dtype=np.uint8)\n",
    "rcon = np.array([[rc[i], 0x00, 0x00, 0x00] for i in range(10)], dtype=np.uint8)\n",
    "\n",
    "N = 4\n",
    "K = np.frombuffer(b'Thats my Kung Fu', 'u1').reshape(-1, 4)\n",
    "R = 11\n",
    "RotWord = lambda b: np.array([b[1], b[2], b[3], b[0]])\n",
    "SubWord = lambda b: np.array([S(b[0]), S(b[1]), S(b[2]), S(b[3])])\n",
    "\n",
    "@cache\n",
    "def W(i):\n",
    "    if i < N:\n",
    "        return K[i]\n",
    "    else: # i >= N\n",
    "        if i % N == 0:\n",
    "            return W(i - N) ^ SubWord(RotWord(W(i - 1))) ^ rcon[i // N - 1]\n",
    "        if N > 6 and i % N == 4:\n",
    "            return W(i - N) ^ SubWord(W(i - 1))\n",
    "        return W(i - N) ^ W(i - 1)\n",
    "\n",
    "rkey = np.transpose(np.array([W(i) for i in range(4 * R)], dtype=np.uint8).reshape(-1, 4, 4), (0, 2, 1))"
   ]
  },
  {
   "cell_type": "code",
   "execution_count": 49,
   "metadata": {},
   "outputs": [
    {
     "data": {
      "text/plain": [
       "array([[54, 73, 20, 67],\n",
       "       [68, 20, 4B, 20],\n",
       "       [61, 6D, 75, 46],\n",
       "       [74, 79, 6E, 75]], dtype=uint8)"
      ]
     },
     "execution_count": 49,
     "metadata": {},
     "output_type": "execute_result"
    }
   ],
   "source": [
    "rkey[0]"
   ]
  },
  {
   "cell_type": "code",
   "execution_count": 50,
   "metadata": {},
   "outputs": [
    {
     "data": {
      "text/plain": [
       "array([[54, 4F, 4E, 20],\n",
       "       [77, 6E, 69, 54],\n",
       "       [6F, 65, 6E, 77],\n",
       "       [20, 20, 65, 6F]], dtype=uint8)"
      ]
     },
     "execution_count": 50,
     "metadata": {},
     "output_type": "execute_result"
    }
   ],
   "source": [
    "state = np.frombuffer(b'Two One Nine Two', 'u1').reshape(-1, 4).T\n",
    "state"
   ]
  },
  {
   "cell_type": "code",
   "execution_count": 51,
   "metadata": {},
   "outputs": [
    {
     "data": {
      "text/plain": [
       "array([[00, 3C, 6E, 47],\n",
       "       [1F, 4E, 22, 74],\n",
       "       [0E, 08, 1B, 31],\n",
       "       [54, 59, 0B, 1A]], dtype=uint8)"
      ]
     },
     "execution_count": 51,
     "metadata": {},
     "output_type": "execute_result"
    }
   ],
   "source": [
    "# AddRoundKey\n",
    "state = state ^ rkey[0]\n",
    "state"
   ]
  },
  {
   "cell_type": "code",
   "execution_count": 52,
   "metadata": {},
   "outputs": [],
   "source": [
    "AddRoundKey = lambda state, key: state ^ key"
   ]
  },
  {
   "cell_type": "code",
   "execution_count": 53,
   "metadata": {},
   "outputs": [
    {
     "data": {
      "text/plain": [
       "array([[63, EB, 9F, A0],\n",
       "       [C0, 2F, 93, 92],\n",
       "       [AB, 30, AF, C7],\n",
       "       [20, CB, 2B, A2]], dtype=uint8)"
      ]
     },
     "execution_count": 53,
     "metadata": {},
     "output_type": "execute_result"
    }
   ],
   "source": [
    "# SubBytes\n",
    "state = S(state)\n",
    "state"
   ]
  },
  {
   "cell_type": "code",
   "execution_count": 54,
   "metadata": {},
   "outputs": [],
   "source": [
    "SubBytes = lambda state: S(state)\n",
    "InvSubBytes = lambda state: iS(state)"
   ]
  },
  {
   "cell_type": "code",
   "execution_count": 55,
   "metadata": {},
   "outputs": [
    {
     "data": {
      "text/plain": [
       "array([[63, EB, 9F, A0],\n",
       "       [2F, 93, 92, C0],\n",
       "       [AF, C7, AB, 30],\n",
       "       [A2, 20, CB, 2B]], dtype=uint8)"
      ]
     },
     "execution_count": 55,
     "metadata": {},
     "output_type": "execute_result"
    }
   ],
   "source": [
    "# ShiftRows\n",
    "state = np.array([np.roll(state[i], -i) for i in range(4)])\n",
    "state"
   ]
  },
  {
   "cell_type": "code",
   "execution_count": 56,
   "metadata": {},
   "outputs": [],
   "source": [
    "ShiftRows = lambda state: np.array([np.roll(state[i], -i) for i in range(4)])\n",
    "\n",
    "InvShiftRows = lambda state: np.array([np.roll(state[i], i) for i in range(4)])"
   ]
  },
  {
   "cell_type": "code",
   "execution_count": 57,
   "metadata": {},
   "outputs": [
    {
     "data": {
      "text/plain": [
       "array([[BA, 84, E8, 1B],\n",
       "       [75, A4, 8D, 40],\n",
       "       [F4, 8D, 06, 7D],\n",
       "       [7A, 32, 0E, 5D]], dtype=uint8)"
      ]
     },
     "execution_count": 57,
     "metadata": {},
     "output_type": "execute_result"
    }
   ],
   "source": [
    "# MixColumns\n",
    "\n",
    "MDS = np.array([\n",
    "    [2, 3, 1, 1],\n",
    "    [1, 2, 3, 1],\n",
    "    [1, 1, 2, 3],\n",
    "    [3, 1, 1, 2]\n",
    "])\n",
    "\n",
    "state = mm(MDS, state)\n",
    "state"
   ]
  },
  {
   "cell_type": "code",
   "execution_count": 58,
   "metadata": {},
   "outputs": [],
   "source": [
    "MixColumns = lambda state: mm(MDS, state)\n",
    "\n",
    "invMDS = np.array([\n",
    "    [14, 11, 13, 9],\n",
    "    [9, 14, 11, 13],\n",
    "    [13, 9, 14, 11],\n",
    "    [11, 13, 9, 14]\n",
    "])\n",
    "\n",
    "InvMixColumns = lambda state: mm(invMDS, state)"
   ]
  },
  {
   "cell_type": "code",
   "execution_count": 59,
   "metadata": {},
   "outputs": [
    {
     "data": {
      "text/plain": [
       "array([[58, 15, 59, CD],\n",
       "       [47, B6, D4, 39],\n",
       "       [08, 1C, E2, DF],\n",
       "       [8B, BA, E8, CE]], dtype=uint8)"
      ]
     },
     "execution_count": 59,
     "metadata": {},
     "output_type": "execute_result"
    }
   ],
   "source": [
    "state = state ^ rkey[1]\n",
    "state"
   ]
  },
  {
   "cell_type": "code",
   "execution_count": 60,
   "metadata": {},
   "outputs": [],
   "source": [
    "rc = np.array([0x01, 0x02, 0x04, 0x08, 0x10, 0x20, 0x40, 0x80, 0x1B, 0x36], dtype=np.uint8)\n",
    "rcon = np.array([[rc[i], 0x00, 0x00, 0x00] for i in range(10)], dtype=np.uint8)\n",
    "\n",
    "RotWord = lambda b: np.array([b[1], b[2], b[3], b[0]], dtype=np.uint8)\n",
    "SubWord = lambda b: np.array([S(b[0]), S(b[1]), S(b[2]), S(b[3])], dtype=np.uint8)\n",
    "\n",
    "\n",
    "def KeyExpansion(key):\n",
    "    N = 4\n",
    "    K = key.reshape(-1, 4)\n",
    "    R = 11\n",
    "\n",
    "    @cache\n",
    "    def W(i):\n",
    "        if i < N:\n",
    "            return K[i]\n",
    "        else: # i >= N\n",
    "            if i % N == 0:\n",
    "                return W(i - N) ^ SubWord(RotWord(W(i - 1))) ^ rcon[i // N - 1]\n",
    "            if N > 6 and i % N == 4:\n",
    "                return W(i - N) ^ SubWord(W(i - 1))\n",
    "            return W(i - N) ^ W(i - 1)\n",
    "\n",
    "    return np.transpose(\n",
    "        np.array([\n",
    "            W(i) for i in range(4 * R)\n",
    "            ], dtype=np.uint8).reshape(-1, 4, 4),\n",
    "        (0, 2, 1)\n",
    "        )"
   ]
  },
  {
   "cell_type": "code",
   "execution_count": 61,
   "metadata": {},
   "outputs": [],
   "source": [
    "def aes128_blk_enc(plain, key):\n",
    "\n",
    "    plain = np.frombuffer(plain, 'u1')\n",
    "    key = np.frombuffer(key, 'u1')\n",
    "\n",
    "    rkey = KeyExpansion(key)\n",
    "\n",
    "    state = plain.reshape(-1, 4).T\n",
    "\n",
    "    state = AddRoundKey(state, rkey[0])\n",
    "\n",
    "    for i in range(1, 10):\n",
    "        state = SubBytes(state)\n",
    "        state = ShiftRows(state)\n",
    "        state = MixColumns(state)\n",
    "        state = AddRoundKey(state, rkey[i])\n",
    "    \n",
    "    state = SubBytes(state)\n",
    "    state = ShiftRows(state)\n",
    "    state = AddRoundKey(state, rkey[10])\n",
    "\n",
    "    return state.T.tobytes()"
   ]
  },
  {
   "cell_type": "code",
   "execution_count": 62,
   "metadata": {},
   "outputs": [],
   "source": [
    "def aes128_blk_dec(cipher, key):\n",
    "\n",
    "    cipher = np.frombuffer(cipher, 'u1')\n",
    "    key = np.frombuffer(key, 'u1')\n",
    "\n",
    "    rkey = KeyExpansion(key)\n",
    "\n",
    "    state = cipher.reshape(-1, 4).T\n",
    "\n",
    "    state = AddRoundKey(state, rkey[10])\n",
    "    state = InvShiftRows(state)\n",
    "    state = InvSubBytes(state)\n",
    "\n",
    "    for i in reversed(range(1, 10)):\n",
    "        state = AddRoundKey(state, rkey[i])\n",
    "        state = InvMixColumns(state)\n",
    "        state = InvShiftRows(state)\n",
    "        state = InvSubBytes(state)\n",
    "    \n",
    "    state = AddRoundKey(state, rkey[0])\n",
    "\n",
    "    return state.T.tobytes()"
   ]
  },
  {
   "cell_type": "code",
   "execution_count": 63,
   "metadata": {},
   "outputs": [
    {
     "data": {
      "text/plain": [
       "array([29, C3, 50, 5F, 57, 14, 20, F6, 40, 22, 99, B3, 1A, 02, D7, 3A], dtype=uint8)"
      ]
     },
     "execution_count": 63,
     "metadata": {},
     "output_type": "execute_result"
    }
   ],
   "source": [
    "cipher = aes128_blk_enc(b\"Two One Nine Two\", b\"Thats my Kung Fu\")\n",
    "np.frombuffer(cipher, 'u1')"
   ]
  },
  {
   "cell_type": "code",
   "execution_count": 64,
   "metadata": {},
   "outputs": [
    {
     "data": {
      "text/plain": [
       "b'Two One Nine Two'"
      ]
     },
     "execution_count": 64,
     "metadata": {},
     "output_type": "execute_result"
    }
   ],
   "source": [
    "aes128_blk_dec(cipher, b\"Thats my Kung Fu\")"
   ]
  },
  {
   "cell_type": "code",
   "execution_count": 65,
   "metadata": {},
   "outputs": [],
   "source": [
    "with open(\"YELLOW SUBMARINE.txt\", \"rb\") as f:\n",
    "    cipher = base64.decodebytes(f.read())"
   ]
  },
  {
   "cell_type": "code",
   "execution_count": 66,
   "metadata": {},
   "outputs": [],
   "source": [
    "key = b'YELLOW SUBMARINE'\n",
    "\n",
    "plain = b''.join(\n",
    "    aes128_blk_dec(blk.tobytes(), key)\n",
    "    for blk in np.frombuffer(cipher, 'u1').reshape(-1, 16)\n",
    "    )"
   ]
  },
  {
   "cell_type": "code",
   "execution_count": 67,
   "metadata": {},
   "outputs": [
    {
     "name": "stdout",
     "output_type": "stream",
     "text": [
      "I'm back and I'm ringin' the bell \n",
      "A rockin' on the mike while the fly girls yell \n",
      "In ecstasy in the back of me \n",
      "Well that's my DJ Deshay cuttin' all them Z's \n",
      "Hittin' hard and the girlies goin' crazy \n",
      "Vanilla's on the mike, man I'm not lazy. \n",
      "\n",
      "I'm lettin' my drug kick in \n",
      "It controls my mouth and I begin \n",
      "To just let it flow, let my concepts go \n",
      "My posse's to the side yellin', Go Vanilla Go! \n",
      "\n",
      "Smooth 'cause that's the way I will be \n",
      "And if you don't give a damn, then \n",
      "Why you starin' at me \n",
      "So get off 'cause I control the stage \n",
      "There's no dissin' allowed \n",
      "I'm in my own phase \n",
      "The girlies sa y they love me and that is ok \n",
      "And I can dance better than any kid n' play \n",
      "\n",
      "Stage 2 -- Yea the one ya' wanna listen to \n",
      "It's off my head so let the beat play through \n",
      "So I can funk it up and make it sound good \n",
      "1-2-3 Yo -- Knock on some wood \n",
      "For good luck, I like my rhymes atrocious \n",
      "Supercalafragilisticexpialidocious \n",
      "I'm an effect and that you can bet \n",
      "I can take a fly girl and make her wet. \n",
      "\n",
      "I'm like Samson -- Samson to Delilah \n",
      "There's no denyin', You can try to hang \n",
      "But you'll keep tryin' to get my style \n",
      "Over and over, practice makes perfect \n",
      "But not if you're a loafer. \n",
      "\n",
      "You'll get nowhere, no place, no time, no girls \n",
      "Soon -- Oh my God, homebody, you probably eat \n",
      "Spaghetti with a spoon! Come on and say it! \n",
      "\n",
      "VIP. Vanilla Ice yep, yep, I'm comin' hard like a rhino \n",
      "Intoxicating so you stagger like a wino \n",
      "So punks stop trying and girl stop cryin' \n",
      "Vanilla Ice is sellin' and you people are buyin' \n",
      "'Cause why the freaks are jockin' like Crazy Glue \n",
      "Movin' and groovin' trying to sing along \n",
      "All through the ghetto groovin' this here song \n",
      "Now you're amazed by the VIP posse. \n",
      "\n",
      "Steppin' so hard like a German Nazi \n",
      "Startled by the bases hittin' ground \n",
      "There's no trippin' on mine, I'm just gettin' down \n",
      "Sparkamatic, I'm hangin' tight like a fanatic \n",
      "You trapped me once and I thought that \n",
      "You might have it \n",
      "So step down and lend me your ear \n",
      "'89 in my time! You, '90 is my year. \n",
      "\n",
      "You're weakenin' fast, YO! and I can tell it \n",
      "Your body's gettin' hot, so, so I can smell it \n",
      "So don't be mad and don't be sad \n",
      "'Cause the lyrics belong to ICE, You can call me Dad \n",
      "You're pitchin' a fit, so step back and endure \n",
      "Let the witch doctor, Ice, do the dance to cure \n",
      "So come up close and don't be square \n",
      "You wanna battle me -- Anytime, anywhere \n",
      "\n",
      "You thought that I was weak, Boy, you're dead wrong \n",
      "So come on, everybody and sing this song \n",
      "\n",
      "Say -- Play that funky music Say, go white boy, go white boy go \n",
      "play that funky music Go white boy, go white boy, go \n",
      "Lay down and boogie and play that funky music till you die. \n",
      "\n",
      "Play that funky music Come on, Come on, let me hear \n",
      "Play that funky music white boy you say it, say it \n",
      "Play that funky music A little louder now \n",
      "Play that funky music, white boy Come on, Come on, Come on \n",
      "Play that funky music \n",
      "\u0004\u0004\u0004\u0004\n"
     ]
    }
   ],
   "source": [
    "print(bytes.decode(plain))"
   ]
  },
  {
   "cell_type": "code",
   "execution_count": 68,
   "metadata": {},
   "outputs": [],
   "source": [
    "def aes128_ecb_enc(plain, key):\n",
    "    return b''.join(\n",
    "        aes128_blk_enc(blk.tobytes(), key)\n",
    "        for blk in np.frombuffer(plain, 'u1').reshape(-1, 16)\n",
    "    )\n",
    "\n",
    "\n",
    "def aes128_ecb_dec(cipher, key):\n",
    "    return b''.join(\n",
    "        aes128_blk_dec(blk.tobytes(), key)\n",
    "        for blk in np.frombuffer(cipher, 'u1').reshape(-1, 16)\n",
    "    )"
   ]
  },
  {
   "cell_type": "code",
   "execution_count": 69,
   "metadata": {},
   "outputs": [
    {
     "data": {
      "text/plain": [
       "b\"I'm back and I'm ringin' the bell \\nA rockin' on the mike while the fly girls yell \\nIn ecstasy in the back of me \\nWell that's my DJ Deshay cuttin' all them Z's \\nHittin' hard and the girlies goin' crazy \\nVanilla's on the mike, man I'm not lazy. \\n\\nI'm lettin' my drug kick in \\nIt controls my mouth and I begin \\nTo just let it flow, let my concepts go \\nMy posse's to the side yellin', Go Vanilla Go! \\n\\nSmooth 'cause that's the way I will be \\nAnd if you don't give a damn, then \\nWhy you starin' at me \\nSo get off 'cause I control the stage \\nThere's no dissin' allowed \\nI'm in my own phase \\nThe girlies sa y they love me and that is ok \\nAnd I can dance better than any kid n' play \\n\\nStage 2 -- Yea the one ya' wanna listen to \\nIt's off my head so let the beat play through \\nSo I can funk it up and make it sound good \\n1-2-3 Yo -- Knock on some wood \\nFor good luck, I like my rhymes atrocious \\nSupercalafragilisticexpialidocious \\nI'm an effect and that you can bet \\nI can take a fly girl and make her wet. \\n\\nI'm like Samson -- Samson to Delilah \\nThere's no denyin', You can try to hang \\nBut you'll keep tryin' to get my style \\nOver and over, practice makes perfect \\nBut not if you're a loafer. \\n\\nYou'll get nowhere, no place, no time, no girls \\nSoon -- Oh my God, homebody, you probably eat \\nSpaghetti with a spoon! Come on and say it! \\n\\nVIP. Vanilla Ice yep, yep, I'm comin' hard like a rhino \\nIntoxicating so you stagger like a wino \\nSo punks stop trying and girl stop cryin' \\nVanilla Ice is sellin' and you people are buyin' \\n'Cause why the freaks are jockin' like Crazy Glue \\nMovin' and groovin' trying to sing along \\nAll through the ghetto groovin' this here song \\nNow you're amazed by the VIP posse. \\n\\nSteppin' so hard like a German Nazi \\nStartled by the bases hittin' ground \\nThere's no trippin' on mine, I'm just gettin' down \\nSparkamatic, I'm hangin' tight like a fanatic \\nYou trapped me once and I thought that \\nYou might have it \\nSo step down and lend me your ear \\n'89 in my time! You, '90 is my year. \\n\\nYou're weakenin' fast, YO! and I can tell it \\nYour body's gettin' hot, so, so I can smell it \\nSo don't be mad and don't be sad \\n'Cause the lyrics belong to ICE, You can call me Dad \\nYou're pitchin' a fit, so step back and endure \\nLet the witch doctor, Ice, do the dance to cure \\nSo come up close and don't be square \\nYou wanna battle me -- Anytime, anywhere \\n\\nYou thought that I was weak, Boy, you're dead wrong \\nSo come on, everybody and sing this song \\n\\nSay -- Play that funky music Say, go white boy, go white boy go \\nplay that funky music Go white boy, go white boy, go \\nLay down and boogie and play that funky music till you die. \\n\\nPlay that funky music Come on, Come on, let me hear \\nPlay that funky music white boy you say it, say it \\nPlay that funky music A little louder now \\nPlay that funky music, white boy Come on, Come on, Come on \\nPlay that funky music \\n\\x04\\x04\\x04\\x04\""
      ]
     },
     "execution_count": 69,
     "metadata": {},
     "output_type": "execute_result"
    }
   ],
   "source": [
    "aes128_ecb_dec(cipher, key)"
   ]
  },
  {
   "cell_type": "code",
   "execution_count": null,
   "metadata": {},
   "outputs": [],
   "source": []
  }
 ],
 "metadata": {
  "kernelspec": {
   "display_name": "latching-4agi86rc-py3.10",
   "language": "python",
   "name": "python3"
  },
  "language_info": {
   "codemirror_mode": {
    "name": "ipython",
    "version": 3
   },
   "file_extension": ".py",
   "mimetype": "text/x-python",
   "name": "python",
   "nbconvert_exporter": "python",
   "pygments_lexer": "ipython3",
   "version": "3.10.6"
  },
  "orig_nbformat": 4
 },
 "nbformat": 4,
 "nbformat_minor": 2
}
