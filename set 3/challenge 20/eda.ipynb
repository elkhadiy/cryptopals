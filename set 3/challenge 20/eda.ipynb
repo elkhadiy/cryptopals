{
 "cells": [
  {
   "cell_type": "code",
   "execution_count": 60,
   "metadata": {},
   "outputs": [],
   "source": [
    "import base64\n",
    "from cryptography.hazmat.primitives.ciphers import Cipher, algorithms, modes\n",
    "import numpy as np\n",
    "from scipy.spatial import distance\n",
    "\n",
    "def fixed_xor(a, b):\n",
    "    return bytes([_a ^ _b for _a, _b in zip(a, b)])\n",
    "\n",
    "B = lambda s: [s[i:i+16] for i in range(0, len(s), 16)]\n",
    "\n",
    "def keystream(key, nonce, cnt = 0, end = 2**64):\n",
    "    aes = Cipher(algorithms.AES128(key), modes.ECB()).encryptor()\n",
    "    while cnt < end:\n",
    "        yield aes.update(nonce + cnt.to_bytes(length=64//8, byteorder='little'))\n",
    "        cnt += 1\n",
    "\n",
    "def aes_ctr(ciphertxt, key, nonce):\n",
    "    return b''.join([fixed_xor(k, c) for k, c in zip(keystream(key, nonce), B(ciphertxt))])\n",
    "\n",
    "with open('t8.shakespeare.txt', 'r') as f:\n",
    "    shks = np.frombuffer(f.read().encode(\"ASCII\"), 'u1')\n",
    "\n",
    "ascii_hist = lambda s: np.histogram(s, bins=range(2**8), density=True)[0]\n",
    "\n",
    "shks_hist = ascii_hist(shks)\n",
    "\n",
    "score = lambda buf: distance.jensenshannon(shks_hist, ascii_hist(np.frombuffer(buf, 'u1')))\n",
    "\n",
    "i2b = lambda i: bytes([i])\n",
    "\n",
    "def break_sb_xor_key(cipher):\n",
    "    cipherd = np.frombuffer(cipher, 'u1')\n",
    "    evaluation = np.array([score(fixed_xor(cipher, i2b(i) * len(cipher))) for i in range(2**8)])\n",
    "    return i2b(np.argmin(evaluation))\n",
    "\n",
    "def rk_xor_key(plain, k):\n",
    "    N = len(plain)\n",
    "    n = len(k)\n",
    "    return (k * np.ceil(N / n).astype(int))[:N]\n",
    "\n",
    "def vigenere(plain, k):\n",
    "    return fixed_xor(plain, rk_xor_key(plain, k))\n",
    "\n",
    "hamming_distance = lambda x, y: int.from_bytes(fixed_xor(x, y), byteorder='big').bit_count()\n",
    "\n",
    "def hamming_score(k_sz, cipher, n = 1):\n",
    "    d = 0\n",
    "    for i in range(n):\n",
    "        d = d + hamming_distance(cipher[i*k_sz:(i+1)*k_sz], cipher[(i+1)*k_sz:(i+2)*k_sz]) / k_sz\n",
    "        d /= 2\n",
    "    return d\n",
    "\n",
    "def break_vigenere(cipher, KEYSIZE):\n",
    "\n",
    "    cipherd = np.frombuffer(cipher, 'u1')\n",
    "\n",
    "    cipher_slices = np.pad(cipherd, (0, int(np.ceil(cipherd.shape[0] / KEYSIZE) * KEYSIZE - cipherd.shape[0])), mode='constant', constant_values=0).reshape(-1, KEYSIZE)\n",
    "    key_candidate = b''.join(break_sb_xor_key(cipher_slices.T[i].tobytes()) for i in range(KEYSIZE))\n",
    "\n",
    "    return key_candidate"
   ]
  },
  {
   "cell_type": "code",
   "execution_count": 61,
   "metadata": {},
   "outputs": [],
   "source": [
    "with open(\"19.txt\", \"rb\") as f:\n",
    "    plaintxts = [base64.decodebytes(line) for line in f.readlines()]"
   ]
  },
  {
   "cell_type": "code",
   "execution_count": 62,
   "metadata": {},
   "outputs": [],
   "source": [
    "K = np.random.bytes(16)"
   ]
  },
  {
   "cell_type": "code",
   "execution_count": 63,
   "metadata": {},
   "outputs": [],
   "source": [
    "ciphertxts = [aes_ctr(plaintxt, K, b'\\x00' * 16) for plaintxt in plaintxts]"
   ]
  },
  {
   "cell_type": "code",
   "execution_count": 64,
   "metadata": {},
   "outputs": [],
   "source": [
    "m = len(min(ciphertxts, key=lambda x: len(x)))\n",
    "truncated_ciphertxts = [ciphertxt[:m] for ciphertxt in ciphertxts]\n",
    "concatenated_truncated_ciphertxts = b''.join(truncated_ciphertxts)"
   ]
  },
  {
   "cell_type": "code",
   "execution_count": 65,
   "metadata": {},
   "outputs": [
    {
     "data": {
      "text/plain": [
       "b\"\\x8a\\x87\\x80\\x045$\\x12e\\xbe'\\xff\\x98\\x0c)\\xc8L\\xaa\\x87\\x80\\x04\""
      ]
     },
     "execution_count": 65,
     "metadata": {},
     "output_type": "execute_result"
    }
   ],
   "source": [
    "keystrim = break_vigenere(concatenated_truncated_ciphertxts, m)\n",
    "keystrim"
   ]
  },
  {
   "cell_type": "code",
   "execution_count": 68,
   "metadata": {},
   "outputs": [
    {
     "data": {
      "text/plain": [
       "b'i have met them at c'"
      ]
     },
     "execution_count": 68,
     "metadata": {},
     "output_type": "execute_result"
    }
   ],
   "source": [
    "vigenere(truncated_ciphertxts[0], keystrim)"
   ]
  },
  {
   "cell_type": "code",
   "execution_count": 66,
   "metadata": {},
   "outputs": [
    {
     "data": {
      "text/plain": [
       "[b\"\\xaa\\x87\\x80\\x045$\\x12e\\xbe'\\xff\\x98\\x0c)\\xc8L\",\n",
       " b\"\\xaa\\x87\\x80\\x045$\\x12e\\xbe'\\xff\\x98\\x0c)\\xc8L\\x84\\xbe\\xc4\\xc2\\x9e1='\\x0c\\xc4\\x924\\\\\\xc9\\x95z\",\n",
       " b\"\\xaa\\x87\\x80\\x045$\\x12e\\xbe'\\xff\\x98\\x0c)\\xc8L\",\n",
       " b'\\x8e)\\xbf\\xc0\\xb1g4l`\\x01\"\\x08\\xe7\\xbc\\xcdx\\x01\\xdb\\x96\\xe0\\xbe\\x15}|\\xf9\\xfe\\xa2\\xcaZ\\xe4\\x12\\xe5',\n",
       " b\"\\xaa\\x87\\x80\\x045$\\x12e\\xbe'\\xff\\x98\\x0c)\\xc8L\",\n",
       " b'\\xac\\xf4\\xe4\\xc0KQ\\x16\\xd7\\x8d<\\xda\\xeb\\xe1\\x8bpc\\x01f[r\\xc2F\\x9cXQxW\\x0c5}\\xec\\xe9',\n",
       " b\"\\xaa\\x87\\x80\\x045$\\x12e\\xbe'\\xff\\x98\\x0c)\\xc8L\",\n",
       " b\"'.\\xc0\\xdc\\xf9F\\xd1\\xfd\\x80Vj\\xaf6\\x84\\xb5\\xa4\\x140i^m\\x87mGS\\x1d\\x8bH!\\xd3\\x08\\xde\"]"
      ]
     },
     "execution_count": 66,
     "metadata": {},
     "output_type": "execute_result"
    }
   ],
   "source": [
    "list(keystream(K, b'\\x00' * 16, end=8))"
   ]
  },
  {
   "cell_type": "code",
   "execution_count": 67,
   "metadata": {},
   "outputs": [
    {
     "data": {
      "text/plain": [
       "b'I have met them '"
      ]
     },
     "execution_count": 67,
     "metadata": {},
     "output_type": "execute_result"
    }
   ],
   "source": [
    "vigenere(next(keystream(K, b'\\x00' * 16, cnt=0)), truncated_ciphertxts[0])"
   ]
  },
  {
   "cell_type": "code",
   "execution_count": 69,
   "metadata": {},
   "outputs": [
    {
     "name": "stdout",
     "output_type": "stream",
     "text": [
      "b'i\\'m rated \"R\"...this is a warning, ya better void / P\\xa9\\xab\\xef\\x98\\x88\\xef\\xb4\\xca\\xfd\\x92\\xf7\\x81m\\x10\\xa3\\xe7e=\\x88\\x14\\x14\\x1b\\xd8\\xa1\\x9eg\\x80\\x91\\x97d\\xc6\\xd8\\xbf'\n",
      "b'cuz I came back to attack others in spite- / Strike l\\xaf\\xa5\\xfe\\xcb\\xc4\\xe7\\xa1\\xc7\\xa9\\x8c\\xff\\x9d+R\\xec\\xc7u6\\xdbp/I\\xc2\\xf5\\xbfj\\x95\\x97\\x8cl\\xd7\\xc9\\xbeiO\\xd3\\xde\\x16'\n",
      "b\"but don't be afraid in the dark, in a park / Not a sc\\xb4\\xab\\xfa\\x86\\x88\\xe1\\xb4\\x8f\\xbc\\xc2\\xf5\\x81uR\\xec\\xe1s1\\xc9p<]\\xd9\\xea\\xf6j\\x9e\\x8a\\x97n\\x9f\\xd1\\xb2lC\\x9d\\x98\\x17\\xe5\\xb12$\\r\\xc8\"\n",
      "b\"ya tremble like a alcoholic, muscles tighten up / Wha\\xb2\\xe9\\xe8\\xcb\\xdc\\xe6\\xa7\\xdb\\xf1\\xc2\\xfa\\x9ak\\x16\\xb8\\xebo1\\xdd \\x7f\\x1c\\xf2\\xee\\xafj\\x80\\x80\\x80+\\xde\\x9d\\xa8nA\\xd5\\x8d\\x17\\xf4\\xb4'\"\n",
      "b'suddenly you feel like your in a horror flick / You g\\xb4\\xaf\\xf9\\xcb\\xd1\\xe1\\xb3\\xdd\\xfd\\x8a\\xf3\\x92~\\n\\xec\\xfait\\xc6p)U\\xd8\\xe9\\xfa,\\x9c\\x97\\xc5\\x7f\\xd0\\xd0\\xb4uT\\xd2\\x8e\\x17\\xe7\\xb4:5\\r\\xd2'\n",
      "b\"music's the clue, when I come your warned / Apocalyps\\xa3\\xee\\xd5\\x84\\xdf\\xa2\\xe6\\xd8\\xb5\\x87\\xf8\\xd3EY\\xa1\\xaee~\\xc65r\\x1c\\xd2\\xe0\\xfa-\\x9c\\x8b\\x80*\"\n",
      "b\"haven't you ever heard of a MC-murderer? / This is th\\xa3\\xee\\xff\\x8e\\xc9\\xfa\\xae\\x8f\\xad\\x87\\xf8\\x92`\\n\\xb5\\xa2`\\x7f\\xccp\\x17\\x1b\\xc6\\xa1\\xa9/\\x81\\x93\\x8ce\\x98\\x9d\\xba\"\n",
      "b'death wish, so come on, step to this / Hysterical ide\\xa7\\xee\\xfd\\x84\\xda\\xae\\xa7\\x8f\\xb1\\x9b\\xe4\\x9ao\\x1f\\xa0\\xaeqc\\xc76;O\\xd8\\xe8\\xb5$\\x9a\\x96\\x91*'\n",
      "b'friday the thirteenth, walking down Elm Street / You \\xa5\\xa1\\xf6\\x8e\\x88\\xe7\\xa8\\x8f\\xb0\\x9b\\xb6\\x81i\\x1f\\xa0\\xe3!h\\xc9p9Y\\xdf\\xa1\\xb8/\\x92\\x91\\xc4'\n",
      "b'this is off limits, so your visions are blurry / All \\xbf\\xaf\\xbb\\x98\\xcd\\xeb\\xe6\\xc6\\xae\\xc2\\xe2\\x9bi^\\xa1\\xebut\\xda#~]\\xdf\\xa1\\xbbj\\x85\\x8a\\x89~\\xd2\\xd8'\n",
      "b\"terror in the styles, never error-files / Indeed I'm \\xad\\xa0\\xf4\\x9c\\xc6\\xa3\\xbf\\xc0\\xa8\\x90\\xb6\\x96t\\x17\\xa0\\xebe0\"\n",
      "b'for those that oppose to be level or next to this / I\\xe6\\xaf\\xf2\\x85\\x8f\\xfa\\xe6\\xce\\xfd\\x86\\xf3\\x85e\\x12\\xec\\xefou\\x88$6U\\xd8\\xa1\\xbb#\\x9d\\xc2\\x91+\\xcb\\xd5\\xbe\\'c\\xc5\\x96E\\xf5\\xa8 \"G'\n",
      "b\"worse than a nightmare, you don't have to sleep a win\\xad\\xee\\xb4\\xcb\\xfc\\xe6\\xa3\\x8f\\xad\\x83\\xff\\x9d+\\r\\xec\\xef!|\\xc17,]\\xc2\\xef\\xbfj\\x96\\x93\\x80y\\xc6\\x9d\\xafnK\\xd8\\xd9N\\xf7\\xe1'>\\x0f\\x9dg\"\n",
      "b'flashbacks interfere, ya start to hear: / The R-A-K-I\\xeb\\x83\\xbb\\x82\\xc6\\xae\\xbf\\xc0\\xa8\\x90\\xb6\\x96m\\x0c\\xf7'\n",
      "b\"then the beat is hysterical / That makes Eric go get \\xa7\\xee\\xfa\\x93\\x88\\xef\\xa8\\xcb\\xfd\\x81\\xfe\\x9c|\\r\\xec\\xfait\\x88'?_\\xc0\"\n",
      "b'soon the lyrical format is superior / Faces of death \\xb4\\xab\\xf6\\x8a\\xc1\\xe0'\n",
      "b\"mC's decaying, cuz they never stayed / The scene of a\\xe6\\xad\\xe9\\x82\\xc5\\xeb\\xe6\\xca\\xab\\x87\\xe4\\x8a,\\x10\\xa5\\xe9ie\\x881*\\x1c\\xdf\\xe9\\xbfj\\x80\\x8d\\x8a|\"\n",
      "b'the fiend of a rhyme on the mic that you know / It\\'s \\xa9\\xa0\\xf7\\x92\\x88\\xe1\\xa8\\xca\\xfd\\x81\\xf7\\x83m\\x1c\\xa0\\xeb-1\\xca\";]\\xc0\\xf2\\xf7>\\x9b\\x80\\xc5~\\xd1\\xdf\\xa9bG\\xd6\\x98U\\xfa\\xa4'\n",
      "b'melodies-unmakable, pattern-unescapable / A horn if w\\xa7\\xa0\\xef\\xcb\\xdc\\xe6\\xa3\\x8f\\xae\\x96\\xef\\x9fi^\\x85\\xaeq~\\xdb#;O'\n",
      "b\"i bless the child, the earth, the gods and bomb the r\\xa3\\xbd\\xef\\xcb\\x87\\xae\\x80\\xc0\\xaf\\xc2\\xe2\\x9bc\\r\\xa9\\xaeuy\\xc9$~Y\\xc5\\xf7\\xa3j\\x92\\xc5\\xa8H\\x9f\\xd4\\xaf'E\\xdc\\x97\\x17\\xf4\\xa4\"\n",
      "b'hazardous to your health so be friendly / A matter of\\xe6\\xa2\\xf2\\x8d\\xcd\\xae\\xa7\\xc1\\xb9\\xc2\\xf2\\x96m\\n\\xa4\\xa2!{\\xdd#*\\x1c\\xc7\\xe8\\xb1/\\xd3\\x84\\xc5n\\xcb\\xde\\xb3*G\\x90\\x8a\\\\\\xf3\\xb50>'\n",
      "b\"shake 'till your clear, make it disappear, make the n\\xa3\\xb6\\xef\\xcb\\x87\\xae\\x87\\xc9\\xa9\\x87\\xe4\\xd3x\\x16\\xa9\\xaebt\\xda53S\\xc5\\xf8\\xf6j\\x9f\\x80\\x91+\\xcb\\xd5\\xbe'T\\xd5\\x80Z\\xf3\\xe1!3\\x15\\x87,\\x17\\xa2\\xaef1\\xfb\\x1bl\"\n",
      "b\"if not, my soul'll release! / The scene is recreated,\\xe6\\xbc\\xfe\\x82\\xc6\\xed\\xa7\\xdd\\xb3\\x83\\xe2\\x96hR\\xec\\xfbqu\\xc9$;X\\x87\\xa1\\x93m\\x9e\\xc5\\x82g\\xde\\xd9\\xfb~I\\xc8\\xd9Z\\xf7\\xa56v\\x0f\\x87\"\n",
      "b'cuz your about to see a disastrous sight / A performa\\xa8\\xad\\xfe\\xcb\\xc6\\xeb\\xb0\\xca\\xaf\\xc2\\xf7\\x94m\\x17\\xa2\\xaeqt\\xda61N\\xc6\\xe4\\xbej\\x9c\\x8b\\xc5j\\x9f\\xd0\\xb2d\\x1c'\n",
      "b'lyrics of fury! A fearified freestyle! / The \"R\" is i\\xa8\\xee\\xef\\x83\\xcd\\xae\\xae\\xc0\\xa8\\x91\\xf3\\xdex\\x11\\xa3\\xaeld\\xcb8~H\\xce\\xef\\xa9#\\x9c\\x8b\\xc4'\n",
      "b\"make sure the system's loud when I mention / Phrases \\xb2\\xa6\\xfa\\x9f\\x8f\\xfd\\xe6\\xc9\\xb8\\x83\\xe4\\x80c\\x13\\xa9\"\n",
      "b'you want to hear some sounds that not only pounds but\\xe6\\xbe\\xf7\\x8e\\xc9\\xfd\\xa3\\x8f\\xa4\\x8d\\xe3\\x81,\\x1b\\xad\\xfcec\\xdd=-\\x07\\x8b\\xae\\xfa\\x03\\xd3\\x96\\x8c\\x7f\\x9f\\xdf\\xbadM\\x9d\\x98Y\\xf2\\xe1<4\\x15\\x96~\\x08\\xa9\\xaeb<\\xffX~u\\xd5E\\xef4\\xbc\\xb0\\xee}\\xaf\\x19\\xa1'\n",
      "b'then nonchalantly tell you what it mean to me / Stric\\xb2\\xa2\\xe2\\xcb\\xca\\xfb\\xb5\\xc6\\xb3\\x87\\xe5\\x80,7\\xeb\\xe3!`\\xdd9=W\\xc7\\xf8\\xfa#\\x9d\\xc5\\x91c\\xd6\\xce\\xfbjI\\xd2\\x9d'\n",
      "b\"and I don't care if the whole crowd's a witness! / I'\\xab\\xee\\xfa\\xcb\\xdc\\xeb\\xa7\\xdd\\xfd\\x9b\\xf9\\x86,\\x1f\\xbc\\xefse\\x882+H\\x8b\\xc8\\xfd'\\xd3\\x84\\xc5x\\xcf\\xdc\\xa9b\\x06\\xc4\\x96B\\xb6\\xa0s>\\x03\\x92~\\n\"\n",
      "b'program into the speed of the rhyme, prepare to start\\xe6\\xe1\\xbb\\xb9\\xc0\\xf7\\xb2\\xc7\\xb0\\xc5\\xe5\\xd3c\\x0b\\xb8\\xaenw\\x88$6Y\\x8b\\xf3\\xbb.\\x9a\\x90\\x96\\'\\x9f\\xd4\\xb5tG\\xd3\\x9c\\x17\\xf7\\xb2s\"\\x0e\\x96,\\x1d\\xbe\\xefl=\\xff\\x0b}'\n",
      "b'musical madness MC ever made, see it\\'s / Now an emerg\\xa3\\xa0\\xf8\\x92\\x84\\xae\\xa9\\xdf\\xb8\\x8c\\xbb\\x9bi\\x1f\\xbe\\xfa!b\\xdd\"9Y\\xd9\\xf8'\n",
      "b\"open your mind, you will find every word'll be / Furi\\xa3\\xbc\\xbb\\x9f\\xc0\\xef\\xa8\\x8f\\xb8\\x94\\xf3\\x81 ^\\x85\\xaest\\xc517R\\x8b\\xf5\\xb2/\\xd3\\x83\\x90y\\xcb\\xc8\\xa9b\"\n",
      "b\"battle's tempting...whatever suits ya! / For words th\\xa3\\xee\\xe8\\x8e\\xc6\\xfa\\xa3\\xc1\\xbe\\x87\\xba\\xd3x\\x16\\xa9\\xfcd6\\xdbp0S\\x8b\\xf3\\xbf9\\x96\\x88\\x87g\\xde\\xd3\\xb8b\"\n",
      "b\"you think you're ruffer, then suffer the consequences\\xe7\\xee\\xb4\\xcb\\xe1\\xa9\\xab\\x8f\\xb3\\x87\\xe0\\x96~^\\xa8\\xf7h\\x7f\\xcf}*Y\\xd9\\xf3\\xb3,\\x8a\\x8c\\x8bl\\x9f\\xcf\\xbetS\\xd1\\x8dD\"\n",
      "b\"i wake ya with hundreds of thousands of volts / Mic-t\\xa9\\xe3\\xf6\\x84\\xdd\\xfa\\xae\\x8f\\xaf\\x87\\xe5\\x86\\x7f\\x1d\\xa5\\xfa`e\\xc1?0\\x10\\x8b\\xf3\\xb23\\x87\\x8d\\x88+\\xc8\\xd4\\xafo\\x06\\xcf\\x98S\\xff\\xa0'?\\t\\x9d\"\n",
      "b'novocain ease the pain it might save him / If not, Er\\xaf\\xad\\xbb\\xa9\\x86\\xa9\\xb5\\x8f\\xa9\\x8a\\xf3\\xd3f\\x0b\\xa8\\xe9d=\\x88$6Y\\x8b\\xe2\\xa8%\\x84\\x81\\xc2x\\x9f\\xc9\\xb3b\\x06\\xd7\\x8cE\\xef'\n",
      "b\"yo Rakim, what's up? / Yo, I'm doing the knowledge, E\\xe8\\xe2\\xbb\\x86\\xc9\\xe0\\xe6\\xe6\\xfa\\x8f\\xb6\\x87~\\x07\\xa5\\xe0f1\\xdc?~[\\xce\\xf5\\xfa:\\x92\\x8c\\x81+\\xd6\\xd3\\xfbaS\\xd1\\x95\"\n",
      "b'well, check this out, since Norby Walters is our agen\\xa5\\xb7\\xb7\\xcb\\xda\\xe7\\xa1\\xc7\\xa9\\xdd\\xb6\\xdc,*\\xbe\\xfbd'\n",
      "b\"kara Lewis is our agent, word up / Zakia and 4th and \\x84\\xbc\\xf4\\x8a\\xcc\\xf9\\xa7\\xd6\\xfd\\x8b\\xe5\\xd3c\\x0b\\xbe\\xaest\\xcb?,X\\x8b\\xe2\\xb5'\\x83\\x84\\x8br\\x93\\x9d\\xb2iB\\xd8\\x9cS\"\n",
      "b\"okay, so who we rollin' with then? We rollin' with Ru\\xb5\\xa6\\xbb\\xc4\\x88\\xc1\\xa0\\x8f\\x8f\\x97\\xe5\\x9bx\\x11\\xbb\\xe0!\\\\\\xc9>?[\\xce\\xec\\xbf$\\x87\"\n",
      "b'check this out, since we talking over / This def beat\\xe6\\xbc\\xf2\\x8c\\xc0\\xfa\\xe6\\xc7\\xb8\\x90\\xf3\\xd3x\\x16\\xad\\xfa!X\\x88 +H\\x8b\\xf5\\xb5-\\x96\\x91\\x8dn\\xcd'\n",
      "b\"i wanna hear some of them def rhymes, you know what I\\xe1\\xa3\\xbb\\x98\\xc9\\xf7\\xaf\\xc1\\xfa\\xdd\\xb6\\xdc,?\\xa2\\xea!e\\xc77;H\\xc3\\xe4\\xa8f\\xd3\\x92\\x80+\\xdc\\xdc\\xb5'A\\xd8\\x8d\\x17\\xe6\\xa0:2F\\x9ab^\\xaa\\xfbz8\"\n",
      "b\"thinkin' of a master plan / 'Cuz ain't nuthin' but sw\\xa3\\xaf\\xef\\xcb\\xc1\\xe0\\xb5\\xc6\\xb9\\x87\\xb6\\x9eu^\\xa4\\xefou\"\n",
      "b\"so I dig into my pocket, all my money is spent / So I\\xe6\\xaa\\xf2\\x8c\\x88\\xea\\xa3\\xca\\xad\\x87\\xe4\\xd3n\\x0b\\xb8\\xaere\\xc1<2\\x1c\\xc8\\xee\\xb7#\\x9d\\xc2\\xc5~\\xcf\\x9d\\xacnR\\xd5\\xd9[\\xff\\xaf'\"\n",
      "b\"so I start my mission, leave my residence / Thinkin' \\xae\\xa1\\xec\\xcb\\xcb\\xe1\\xb3\\xc3\\xb9\\xc2\\xdf\\xd3k\\x1b\\xb8\\xaer~\\xc55~X\\xce\\xe0\\xbej\\x83\\x97\\x80x\\xd6\\xd9\\xbeiR\\xce\"\n",
      "b'i need money, I used to be a stick-up kid / So I thin\\xad\\xee\\xf4\\x8d\\x88\\xef\\xaa\\xc3\\xfd\\x96\\xfe\\x96,\\x1a\\xa9\\xf8h~\\xdd#~H\\xc3\\xe8\\xb4-\\x80\\xc5\\xac+\\xdb\\xd4\\xbf'\n",
      "b\"i used to roll up, this is a hold up, ain't nuthin' f\\xb3\\xa0\\xf5\\x92\\x88\\xa1\\xe6\\xfc\\xa9\\x8d\\xe6\\xd3\\x7f\\x13\\xa5\\xe2h\\x7f\\xcf|~^\\xce\\xa1\\xa9>\\x9a\\x89\\x89'\\x9f\\xd9\\xb4i\\x01\\xc9\\xd9Y\\xe3\\xb5;?\\x08\\xd4,\\x13\\xa3\\xf8st\\xf8\\r}=\\xceA\\xef4\\xa2\\xbc\\xe5v\\xb3\"\n",
      "b\"but now I learned to earn 'cuz I'm righteous / I feel\\xe6\\xa9\\xe9\\x8e\\xc9\\xfa\\xea\\x8f\\xae\\x8d\\xb6\\x9em\\x07\\xae\\xeb!X\\x88=7[\\xc3\\xf5\\xfa \\x86\\x96\\x91\"\n",
      "b'search for a nine to five, if I strive / Then maybe I\\xe1\\xa2\\xf7\\xcb\\xdb\\xfa\\xa7\\xd6\\xfd\\x83\\xfa\\x9az\\x1b'\n",
      "b\"so I walk up the street whistlin' this / Feelin' out \\xa9\\xa8\\xbb\\x9b\\xc4\\xef\\xa5\\xca\\xfd\\xc5\\xf5\\x86vR\\xec\\xe3`\\x7f\\x84p:S\\x8b\\xc8\\xfa'\\x9a\\x96\\x96\"\n",
      "b'a pen and a paper, a stereo, a tape of / Me and Eric \\x84\\xe2\\xbb\\x8a\\xc6\\xea\\xe6\\xce\\xfd\\x8c\\xff\\x90i^\\xae\\xe7f1\\xd8<?H\\xce\\xa1\\xb5,'\n",
      "b'fish, which is my favorite dish / But without no mone\\xbf\\xee\\xf2\\x9f\\x8f\\xfd\\xe6\\xdc\\xa9\\x8b\\xfa\\x9f,\\x1f\\xec\\xf9hb\\xc0'\n",
      "b\"\\x07Cuz I don't like to dream about gettin' paid / So I \\xa2\\xa7\\xfc\\xcb\\xc1\\xe0\\xb2\\xc0\\xfd\\x96\\xfe\\x96,\\x1c\\xa3\\xe1jb\\x88?8\\x1c\\xdf\\xe9\\xbfj\\x81\\x8d\\x9cf\\xda\\xce\\xfbsN\\xdc\\x8d\\x17\\xdf\\xe1>7\\x02\\x96\"\n",
      "b'so now to test to see if I got pull / Hit the studio,\\xe6\\xe9\\xf8\\x9e\\xd2\\xae\\x8f\\x88\\xb0\\xc2\\xe6\\x92e\\x1a\\xec\\xe7o1\\xce%2P'\n",
      "b'rakim, check this out, yo / You go to your girl house\\xe6\\xaf\\xf5\\x8f\\x88\\xc7\\xe1\\xc3\\xb1\\xc2\\xf1\\x9c,\\n\\xa3\\xaelx\\xc65'\n",
      "b\"\\x07Cause my girl is definitely mad / 'Cause it took us \\xb2\\xa1\\xf4\\xcb\\xc4\\xe1\\xa8\\xc8\\xfd\\x96\\xf9\\xd3h\\x11\\xec\\xfaix\\xdbp?P\\xc9\\xf4\\xb7\"\n",
      "b\"yo, I hear what you're saying / So let's just pump th\\xa3\\xee\\xf6\\x9e\\xdb\\xe7\\xa5\\x8f\\xa8\\x92\"\n",
      "b'and count our money / Yo, well check this out, yo Eli'\n",
      "b'turn down the bass down / And let the beat just keep \\xa9\\xa0\\xbb\\x99\\xc7\\xed\\xad\\xc6\\xb3\\xc5'\n",
      "b'and we outta here / Yo, what happened to peace? / Pea\\xa5\\xab'\n"
     ]
    }
   ],
   "source": [
    "with open(\"20.txt\", \"rb\") as f:\n",
    "    plaintxts = [base64.decodebytes(line) for line in f.readlines()]\n",
    "\n",
    "K = np.random.bytes(16)\n",
    "\n",
    "ciphertxts = [aes_ctr(plaintxt, K, b'\\x00' * 16) for plaintxt in plaintxts]\n",
    "\n",
    "m = len(min(ciphertxts, key=lambda x: len(x)))\n",
    "\n",
    "truncated_ciphertxts = [ciphertxt[:m] for ciphertxt in ciphertxts]\n",
    "\n",
    "concatenated_truncated_ciphertxts = b''.join(truncated_ciphertxts)\n",
    "\n",
    "keystrim = break_vigenere(concatenated_truncated_ciphertxts, m)\n",
    "\n",
    "plaintxts = [vigenere(ciphertxt, keystrim) for ciphertxt in ciphertxts]\n",
    "\n",
    "for p in plaintxts:\n",
    "    print(p)"
   ]
  },
  {
   "cell_type": "code",
   "execution_count": null,
   "metadata": {},
   "outputs": [],
   "source": []
  }
 ],
 "metadata": {
  "kernelspec": {
   "display_name": "latching-4agi86rc-py3.10",
   "language": "python",
   "name": "python3"
  },
  "language_info": {
   "codemirror_mode": {
    "name": "ipython",
    "version": 3
   },
   "file_extension": ".py",
   "mimetype": "text/x-python",
   "name": "python",
   "nbconvert_exporter": "python",
   "pygments_lexer": "ipython3",
   "version": "3.10.6"
  },
  "orig_nbformat": 4
 },
 "nbformat": 4,
 "nbformat_minor": 2
}
