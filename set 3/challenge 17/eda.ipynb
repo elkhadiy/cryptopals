{
 "cells": [
  {
   "cell_type": "code",
   "execution_count": 380,
   "metadata": {},
   "outputs": [],
   "source": [
    "import base64\n",
    "import numpy as np\n",
    "from cryptography.hazmat.primitives.ciphers import Cipher, algorithms, modes\n",
    "from cryptography.hazmat.primitives import padding\n",
    "\n",
    "def valid_pkcs7(plain):\n",
    "    return 1 <= plain[-1] <= 16 and plain[-plain[-1]:] == bytes([plain[-1]]) * plain[-1]\n",
    "\n",
    "def unpkcs7(plain):\n",
    "    if 1 <= plain[-1] <= 16 and plain[-plain[-1]:] == bytes([plain[-1]]) * plain[-1]:\n",
    "        return plain[:-plain[-1]]\n",
    "    else:\n",
    "        raise ValueError(\"Bad padding\")\n",
    "\n",
    "B = lambda s: [s[i:i+16] for i in range(0, len(s), 16)]\n",
    "\n",
    "def change_byte(b, pos, B):\n",
    "    pos = pos % len(B)\n",
    "    return B[:pos] + b + B[pos+1:]\n",
    "\n",
    "def fixed_xor(a, b):\n",
    "    return bytes([_a ^ _b for _a, _b in zip(a, b)])"
   ]
  },
  {
   "cell_type": "code",
   "execution_count": 14,
   "metadata": {},
   "outputs": [],
   "source": [
    "K = np.random.bytes(16)"
   ]
  },
  {
   "cell_type": "code",
   "execution_count": 386,
   "metadata": {},
   "outputs": [],
   "source": [
    "def server_cipher(key=K):\n",
    "\n",
    "    P = b\"\"\"MDAwMDAwTm93IHRoYXQgdGhlIHBhcnR5IGlzIGp1bXBpbmc=\n",
    "    MDAwMDAxV2l0aCB0aGUgYmFzcyBraWNrZWQgaW4gYW5kIHRoZSBWZWdhJ3MgYXJlIHB1bXBpbic=\n",
    "    MDAwMDAyUXVpY2sgdG8gdGhlIHBvaW50LCB0byB0aGUgcG9pbnQsIG5vIGZha2luZw==\n",
    "    MDAwMDAzQ29va2luZyBNQydzIGxpa2UgYSBwb3VuZCBvZiBiYWNvbg==\n",
    "    MDAwMDA0QnVybmluZyAnZW0sIGlmIHlvdSBhaW4ndCBxdWljayBhbmQgbmltYmxl\n",
    "    MDAwMDA1SSBnbyBjcmF6eSB3aGVuIEkgaGVhciBhIGN5bWJhbA==\n",
    "    MDAwMDA2QW5kIGEgaGlnaCBoYXQgd2l0aCBhIHNvdXBlZCB1cCB0ZW1wbw==\n",
    "    MDAwMDA3SSdtIG9uIGEgcm9sbCwgaXQncyB0aW1lIHRvIGdvIHNvbG8=\n",
    "    MDAwMDA4b2xsaW4nIGluIG15IGZpdmUgcG9pbnQgb2g=\n",
    "    MDAwMDA5aXRoIG15IHJhZy10b3AgZG93biBzbyBteSBoYWlyIGNhbiBibG93\"\"\".splitlines()\n",
    "    P = [base64.decodebytes(p) for p in P]\n",
    "\n",
    "    padder = padding.PKCS7(128).padder()\n",
    "    prefix = np.random.choice(P)\n",
    "    plain = padder.update(prefix) + padder.finalize()\n",
    "\n",
    "    iv = np.random.bytes(16)\n",
    "    aes = Cipher(algorithms.AES128(key), modes.CBC(iv)).encryptor()\n",
    "    ciphertxt = aes.update(plain) + aes.finalize()\n",
    "\n",
    "    return iv, ciphertxt"
   ]
  },
  {
   "cell_type": "code",
   "execution_count": 124,
   "metadata": {},
   "outputs": [],
   "source": [
    "def padding_oracle(iv, ciphertxt, key=K):\n",
    "    aes = Cipher(algorithms.AES128(key), modes.CBC(iv)).decryptor()\n",
    "    plain = aes.update(ciphertxt) + aes.finalize()\n",
    "    return valid_pkcs7(plain)"
   ]
  },
  {
   "cell_type": "code",
   "execution_count": 224,
   "metadata": {},
   "outputs": [],
   "source": [
    "iv, ciphertxt = server_cipher()"
   ]
  },
  {
   "cell_type": "code",
   "execution_count": 349,
   "metadata": {},
   "outputs": [],
   "source": [
    "def break_P2(C0, C1, C2, padding_oracle):\n",
    "\n",
    "    P2 = b''\n",
    "    C1_blkp = C1\n",
    "\n",
    "    for i in range(256):\n",
    "        C1_prime = change_byte(bytes([i]), -1, C1)\n",
    "        if padding_oracle(C0, C1_prime + C2):\n",
    "            C1_second = change_byte(bytes([(C1_prime[-2] >> 1) ^ C1_prime[-2]]), -2, C1_prime)\n",
    "            if padding_oracle(C0, C1_second + C2):\n",
    "                pad_byte = bytes([C1_prime[-1] ^ 0x01 ^ C1[-1]])\n",
    "\n",
    "    P2 = pad_byte + P2\n",
    "\n",
    "    for i in range(1, 16):\n",
    "\n",
    "        C1 = C1_blkp\n",
    "\n",
    "        for j in range(1, i+1):\n",
    "            C1 = change_byte(bytes([P2[-j] ^ C1[-j] ^ (i+1)]), -j, C1)\n",
    "\n",
    "        for k in range(256):\n",
    "            C1_prime = change_byte(bytes([k]), -(i+1), C1)\n",
    "            if padding_oracle(C0, C1_prime + C2):\n",
    "                pad_byte = bytes([C1_prime[-(i+1)] ^ (i+1) ^ C1[-(i+1)]])\n",
    "\n",
    "        P2 = pad_byte + P2\n",
    "    \n",
    "    return P2\n"
   ]
  },
  {
   "cell_type": "code",
   "execution_count": 364,
   "metadata": {},
   "outputs": [
    {
     "data": {
      "text/plain": [
       "b'000002Quick to t'"
      ]
     },
     "execution_count": 364,
     "metadata": {},
     "output_type": "execute_result"
    }
   ],
   "source": [
    "C = B(ciphertxt)\n",
    "break_P2(np.random.bytes(16), iv, C[0], padding_oracle)"
   ]
  },
  {
   "cell_type": "code",
   "execution_count": 383,
   "metadata": {},
   "outputs": [],
   "source": [
    "def padding_oracle_attack(iv, ciphertxt, padding_oracle):\n",
    "\n",
    "    blks = [np.random.bytes(16), iv] + B(ciphertxt)\n",
    "\n",
    "    return unpkcs7(b''.join([break_P2(blks[i], blks[i+1], blks[i+2], padding_oracle) for i in range(len(blks) - 3 + 1)]))"
   ]
  },
  {
   "cell_type": "code",
   "execution_count": 384,
   "metadata": {},
   "outputs": [
    {
     "data": {
      "text/plain": [
       "b'000002Quick to the point, to the point, no faking'"
      ]
     },
     "execution_count": 384,
     "metadata": {},
     "output_type": "execute_result"
    }
   ],
   "source": [
    "padding_oracle_attack(iv, ciphertxt, padding_oracle)"
   ]
  },
  {
   "cell_type": "code",
   "execution_count": 393,
   "metadata": {},
   "outputs": [
    {
     "data": {
      "text/plain": [
       "b'000009ith my rag-top down so my hair can blow'"
      ]
     },
     "execution_count": 393,
     "metadata": {},
     "output_type": "execute_result"
    }
   ],
   "source": [
    "padding_oracle_attack(*server_cipher(), padding_oracle)"
   ]
  },
  {
   "cell_type": "code",
   "execution_count": null,
   "metadata": {},
   "outputs": [],
   "source": []
  }
 ],
 "metadata": {
  "kernelspec": {
   "display_name": "latching-4agi86rc-py3.10",
   "language": "python",
   "name": "python3"
  },
  "language_info": {
   "codemirror_mode": {
    "name": "ipython",
    "version": 3
   },
   "file_extension": ".py",
   "mimetype": "text/x-python",
   "name": "python",
   "nbconvert_exporter": "python",
   "pygments_lexer": "ipython3",
   "version": "3.10.6"
  },
  "orig_nbformat": 4
 },
 "nbformat": 4,
 "nbformat_minor": 2
}
