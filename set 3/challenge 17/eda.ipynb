{
 "cells": [
  {
   "cell_type": "code",
   "execution_count": 223,
   "metadata": {},
   "outputs": [],
   "source": [
    "import base64\n",
    "from base64 import b64encode, b64decode\n",
    "import numpy as np\n",
    "from cryptography.hazmat.primitives.ciphers import Cipher, algorithms, modes\n",
    "from cryptography.hazmat.primitives import padding\n",
    "\n",
    "def valid_pkcs7(plain):\n",
    "    return 1 <= plain[-1] <= 16 and plain[-plain[-1]:] == bytes([plain[-1]]) * plain[-1]\n",
    "\n",
    "def unpkcs7(plain):\n",
    "    if 1 <= plain[-1] <= 16 and plain[-plain[-1]:] == bytes([plain[-1]]) * plain[-1]:\n",
    "        return plain[:-plain[-1]]\n",
    "    else:\n",
    "        raise ValueError(\"Bad padding\")\n",
    "\n",
    "B = lambda s: [s[i:i+16] for i in range(0, len(s), 16)]\n",
    "\n",
    "def change_byte(b, pos, B):\n",
    "    pos = pos % len(B)\n",
    "    return B[:pos] + b + B[pos+1:]\n",
    "\n",
    "def fixed_xor(a, b):\n",
    "    return bytes([_a ^ _b for _a, _b in zip(a, b)])"
   ]
  },
  {
   "cell_type": "code",
   "execution_count": 3,
   "metadata": {},
   "outputs": [],
   "source": [
    "K = np.random.bytes(16)"
   ]
  },
  {
   "cell_type": "code",
   "execution_count": 4,
   "metadata": {},
   "outputs": [],
   "source": [
    "def server_cipher(key=K):\n",
    "\n",
    "    P = b\"\"\"MDAwMDAwTm93IHRoYXQgdGhlIHBhcnR5IGlzIGp1bXBpbmc=\n",
    "    MDAwMDAxV2l0aCB0aGUgYmFzcyBraWNrZWQgaW4gYW5kIHRoZSBWZWdhJ3MgYXJlIHB1bXBpbic=\n",
    "    MDAwMDAyUXVpY2sgdG8gdGhlIHBvaW50LCB0byB0aGUgcG9pbnQsIG5vIGZha2luZw==\n",
    "    MDAwMDAzQ29va2luZyBNQydzIGxpa2UgYSBwb3VuZCBvZiBiYWNvbg==\n",
    "    MDAwMDA0QnVybmluZyAnZW0sIGlmIHlvdSBhaW4ndCBxdWljayBhbmQgbmltYmxl\n",
    "    MDAwMDA1SSBnbyBjcmF6eSB3aGVuIEkgaGVhciBhIGN5bWJhbA==\n",
    "    MDAwMDA2QW5kIGEgaGlnaCBoYXQgd2l0aCBhIHNvdXBlZCB1cCB0ZW1wbw==\n",
    "    MDAwMDA3SSdtIG9uIGEgcm9sbCwgaXQncyB0aW1lIHRvIGdvIHNvbG8=\n",
    "    MDAwMDA4b2xsaW4nIGluIG15IGZpdmUgcG9pbnQgb2g=\n",
    "    MDAwMDA5aXRoIG15IHJhZy10b3AgZG93biBzbyBteSBoYWlyIGNhbiBibG93\"\"\".splitlines()\n",
    "    P = [base64.decodebytes(p) for p in P]\n",
    "\n",
    "    padder = padding.PKCS7(128).padder()\n",
    "    prefix = np.random.choice(P)\n",
    "    plain = padder.update(prefix) + padder.finalize()\n",
    "\n",
    "    iv = np.random.bytes(16)\n",
    "    aes = Cipher(algorithms.AES128(key), modes.CBC(iv)).encryptor()\n",
    "    ciphertxt = aes.update(plain) + aes.finalize()\n",
    "\n",
    "    return iv, ciphertxt"
   ]
  },
  {
   "cell_type": "code",
   "execution_count": 5,
   "metadata": {},
   "outputs": [],
   "source": [
    "def padding_oracle(iv, ciphertxt, key=K):\n",
    "    aes = Cipher(algorithms.AES128(key), modes.CBC(iv)).decryptor()\n",
    "    plain = aes.update(ciphertxt) + aes.finalize()\n",
    "    return valid_pkcs7(plain)"
   ]
  },
  {
   "cell_type": "code",
   "execution_count": 6,
   "metadata": {},
   "outputs": [],
   "source": [
    "iv, ciphertxt = server_cipher()"
   ]
  },
  {
   "cell_type": "code",
   "execution_count": 211,
   "metadata": {},
   "outputs": [],
   "source": [
    "def break_P2(C0, C1, C2, padding_oracle):\n",
    "\n",
    "    P2 = b''\n",
    "    C1_blkp = C1\n",
    "\n",
    "    for i in range(256):\n",
    "        C1_prime = change_byte(bytes([i]), -1, C1)\n",
    "        if padding_oracle(C0, C1_prime + C2):\n",
    "            C1_second = change_byte(bytes([(C1_prime[-2] >> 1) ^ C1_prime[-2]]), -2, C1_prime)\n",
    "            if padding_oracle(C0, C1_second + C2):\n",
    "                pad_byte = bytes([C1_prime[-1] ^ 0x01 ^ C1[-1]])\n",
    "                break\n",
    "\n",
    "    P2 = pad_byte + P2\n",
    "\n",
    "    for i in range(1, 16):\n",
    "\n",
    "        C1 = C1_blkp\n",
    "\n",
    "        for j in range(1, i+1):\n",
    "            C1 = change_byte(bytes([P2[-j] ^ C1[-j] ^ (i+1)]), -j, C1)\n",
    "\n",
    "        for k in range(256):\n",
    "            C1_prime = change_byte(bytes([k]), -(i+1), C1)\n",
    "            if padding_oracle(C0, C1_prime + C2):\n",
    "                pad_byte = bytes([C1_prime[-(i+1)] ^ (i+1) ^ C1[-(i+1)]])\n",
    "                break\n",
    "\n",
    "        P2 = pad_byte + P2\n",
    "\n",
    "        print(f\"\\rDecrypting block: {P2}\", end=\"\")\n",
    "    \n",
    "    print(\"\")\n",
    "    \n",
    "    return P2\n"
   ]
  },
  {
   "cell_type": "code",
   "execution_count": 8,
   "metadata": {},
   "outputs": [
    {
     "name": "stdout",
     "output_type": "stream",
     "text": [
      "Decrypting block: b'000005I go crazy'\n"
     ]
    },
    {
     "data": {
      "text/plain": [
       "b'000005I go crazy'"
      ]
     },
     "execution_count": 8,
     "metadata": {},
     "output_type": "execute_result"
    }
   ],
   "source": [
    "C = B(ciphertxt)\n",
    "break_P2(np.random.bytes(16), iv, C[0], padding_oracle)"
   ]
  },
  {
   "cell_type": "code",
   "execution_count": 4,
   "metadata": {},
   "outputs": [],
   "source": [
    "def padding_oracle_attack(iv, ciphertxt, padding_oracle):\n",
    "\n",
    "    blks = [b'\\x00' * 16, iv] + B(ciphertxt)\n",
    "\n",
    "    return unpkcs7(b''.join([break_P2(blks[i], blks[i+1], blks[i+2], padding_oracle) for i in range(len(blks) - 3 + 1)]))"
   ]
  },
  {
   "cell_type": "code",
   "execution_count": 101,
   "metadata": {},
   "outputs": [
    {
     "data": {
      "text/plain": [
       "b\"000004Burning 'em, if you ain't quick and nimble\""
      ]
     },
     "execution_count": 101,
     "metadata": {},
     "output_type": "execute_result"
    }
   ],
   "source": [
    "padding_oracle_attack(iv, ciphertxt, padding_oracle)"
   ]
  },
  {
   "cell_type": "code",
   "execution_count": 115,
   "metadata": {},
   "outputs": [
    {
     "name": "stdout",
     "output_type": "stream",
     "text": [
      "Decrypting block: b\"000008ollin' in \"\n",
      "Decrypting block: b'my five point oh'\n",
      "Decrypting block: b'\\x10\\x10\\x10\\x10\\x10\\x10\\x10\\x10\\x10\\x10\\x10\\x10\\x10\\x10\\x10\\x10'\n",
      "CPU times: user 1.44 s, sys: 1.51 s, total: 2.95 s\n",
      "Wall time: 3.16 s\n"
     ]
    },
    {
     "data": {
      "text/plain": [
       "b\"000008ollin' in my five point oh\""
      ]
     },
     "execution_count": 115,
     "metadata": {},
     "output_type": "execute_result"
    }
   ],
   "source": [
    "%%time\n",
    "padding_oracle_attack(*server_cipher(), padding_oracle)"
   ]
  },
  {
   "cell_type": "markdown",
   "metadata": {},
   "source": [
    "### Mock vulnerable webapp"
   ]
  },
  {
   "cell_type": "code",
   "execution_count": 20,
   "metadata": {},
   "outputs": [],
   "source": [
    "import json"
   ]
  },
  {
   "cell_type": "code",
   "execution_count": 435,
   "metadata": {},
   "outputs": [],
   "source": [
    "class Pastebin:\n",
    "\n",
    "    db = {}\n",
    "\n",
    "    def __init__(self):\n",
    "        self.staticKey = np.random.bytes(16)\n",
    "    \n",
    "    def post(self, title, data):\n",
    "        id = len(self.db)\n",
    "        post_key = np.random.bytes(16)\n",
    "        cipher = self.encrypt_json_data(post_key, {'title': title, 'data': data})\n",
    "        self.db[id] = cipher\n",
    "        post_cipher = self.encrypt_json_data(self.staticKey, {'id': id, 'key': base64.b64encode(post_key).decode('utf-8')})\n",
    "        return post_cipher\n",
    "    \n",
    "    def encrypt_json_data(self, key, json_data):\n",
    "        \"\"\"base64 of a cipher who's plain text is base64 json string\"\"\"\n",
    "        plain = json.dumps(json_data)\n",
    "        plainb64 = base64.b64encode(plain.encode('utf-8'))\n",
    "        padder = padding.PKCS7(128).padder()\n",
    "        padded_plain = padder.update(plainb64) + padder.finalize()\n",
    "        iv = np.random.bytes(16)\n",
    "        aes = Cipher(algorithms.AES128(key), modes.CBC(iv)).encryptor()\n",
    "        ciphertxt = aes.update(padded_plain) + aes.finalize()\n",
    "        cipher = iv + ciphertxt\n",
    "        return base64.b64encode(cipher)\n",
    "    \n",
    "    def decrypt_json_data(self, key, cipher):\n",
    "        cipher = base64.b64decode(cipher)\n",
    "        iv, ciphertxt = cipher[:16], cipher[16:]\n",
    "        aes = Cipher(algorithms.AES128(key), modes.CBC(iv)).decryptor()\n",
    "        plain = aes.update(ciphertxt) + aes.finalize()\n",
    "        unpadder = padding.PKCS7(128).unpadder()\n",
    "        unpadded_plain = unpadder.update(plain) + unpadder.finalize()\n",
    "        return json.loads(base64.decodebytes(unpadded_plain))\n",
    "    \n",
    "    def get(self, post):\n",
    "        post = self.decrypt_json_data(self.staticKey, post)\n",
    "        if 'admin' in post:\n",
    "            return f'Hi admin, your static key is {self.staticKey}'\n",
    "        cipher_bin = self.db[post['id']]\n",
    "        plain_bin = self.decrypt_json_data(base64.b64decode(post['key']), cipher_bin)\n",
    "        return plain_bin"
   ]
  },
  {
   "cell_type": "code",
   "execution_count": 436,
   "metadata": {},
   "outputs": [
    {
     "name": "stdout",
     "output_type": "stream",
     "text": [
      "b'I3zg/XnGBV9NyeYA9NIaPPjEur9sRUYn4AvsWoA1DMDwniyxV1trYUicFXYJz80wMfjzsmjkW/19DOAWkBCIb4U2zSzTtyMYWpeOWumnrYA=' b'ZIIB7nA5IZ2kY0F3OPaH9mD81aK6JxrkcKl0zOntfl0D/8PhwI22CjfSINBITov/o57vsQhBhusaPUwnrw0q6g5qjzyG3xf+lwrpeii4GRc=' b'OdVFhUaRoUu06EzcE+ACjDIB0quE/cxoKIJiD9gO5pGXqwq/gfiOoMz1dxHQpLzkbv5x8T9QrV7v68Wn+yY/EtHyM6waRFEX76i0BzndQyA='\n",
      "{'title': 'first', 'data': 'bin'} {'title': 'second', 'data': 'bin2'} {'title': 'third', 'data': 'bin3'}\n"
     ]
    }
   ],
   "source": [
    "p = Pastebin()\n",
    "p1 = p.post('first', 'bin')\n",
    "p2 = p.post('second', 'bin2')\n",
    "p3 = p.post('third', 'bin3')\n",
    "print(p1, p2, p3)\n",
    "print(p.get(p1), p.get(p2), p.get(p3))"
   ]
  },
  {
   "cell_type": "code",
   "execution_count": 437,
   "metadata": {},
   "outputs": [],
   "source": [
    "import traceback\n",
    "\n",
    "def padding_oracle(cipher):\n",
    "    try:\n",
    "        p.get(cipher)\n",
    "        return True\n",
    "    except Exception as e:\n",
    "        return 'Invalid padding bytes' not in str(e)"
   ]
  },
  {
   "cell_type": "code",
   "execution_count": 438,
   "metadata": {},
   "outputs": [
    {
     "data": {
      "text/plain": [
       "False"
      ]
     },
     "execution_count": 438,
     "metadata": {},
     "output_type": "execute_result"
    }
   ],
   "source": [
    "padding_oracle(base64.b64encode(b'\\x00' * 16 + b'\\xaa' + b'\\x00' * 15))"
   ]
  },
  {
   "cell_type": "code",
   "execution_count": 439,
   "metadata": {},
   "outputs": [
    {
     "name": "stdout",
     "output_type": "stream",
     "text": [
      "True\n"
     ]
    }
   ],
   "source": [
    "print(padding_oracle(p1))"
   ]
  },
  {
   "cell_type": "code",
   "execution_count": 372,
   "metadata": {},
   "outputs": [],
   "source": [
    "def break_P2(C0, C1, C2, padding_oracle):\n",
    "\n",
    "    P2 = b''\n",
    "    C1_blkp = C1\n",
    "\n",
    "    for i in range(256):\n",
    "        C1_prime = change_byte(bytes([i]), -1, C1)\n",
    "        if padding_oracle(b64encode(C0 + C1_prime + C2)):\n",
    "            C1_second = change_byte(bytes([(C1_prime[-2] >> 1) ^ C1_prime[-2]]), -2, C1_prime)\n",
    "            if padding_oracle(b64encode(C0 + C1_second + C2)):\n",
    "                pad_byte = bytes([C1_prime[-1] ^ 0x01 ^ C1[-1]])\n",
    "                break\n",
    "\n",
    "    P2 = pad_byte + P2\n",
    "\n",
    "    for i in range(1, 16):\n",
    "\n",
    "        C1 = C1_blkp\n",
    "\n",
    "        for j in range(1, i+1):\n",
    "            C1 = change_byte(bytes([P2[-j] ^ C1[-j] ^ (i+1)]), -j, C1)\n",
    "\n",
    "        for k in range(256):\n",
    "            C1_prime = change_byte(bytes([k]), -(i+1), C1)\n",
    "            if padding_oracle(b64encode(C0 + C1_prime + C2)):\n",
    "                pad_byte = bytes([C1_prime[-(i+1)] ^ (i+1) ^ C1[-(i+1)]])\n",
    "                break\n",
    "\n",
    "        P2 = pad_byte + P2\n",
    "    \n",
    "    return P2\n"
   ]
  },
  {
   "cell_type": "code",
   "execution_count": 371,
   "metadata": {},
   "outputs": [],
   "source": [
    "def padding_oracle_attack(cipher, padding_oracle):\n",
    "    iv, ciphertxt = cipher[:16], cipher[16:]\n",
    "    blks = [b'\\x00' * 16, iv] + B(ciphertxt)\n",
    "    return b''.join([break_P2(blks[i], blks[i+1], blks[i+2], padding_oracle) for i in range(len(blks) - 3 + 1)])"
   ]
  },
  {
   "cell_type": "code",
   "execution_count": 440,
   "metadata": {},
   "outputs": [
    {
     "data": {
      "text/plain": [
       "b'{\"id\": 0, \"k'"
      ]
     },
     "execution_count": 440,
     "metadata": {},
     "output_type": "execute_result"
    }
   ],
   "source": [
    "p1b = b64decode(p1)\n",
    "b64decode(break_P2(b'\\x00' * 16, p1b[:16], p1b[16:32], padding_oracle))"
   ]
  },
  {
   "cell_type": "code",
   "execution_count": 441,
   "metadata": {},
   "outputs": [],
   "source": [
    "def pad(msg):\n",
    "    padder = padding.PKCS7(128).padder()\n",
    "    return padder.update(msg) + padder.finalize()"
   ]
  },
  {
   "cell_type": "code",
   "execution_count": 442,
   "metadata": {},
   "outputs": [
    {
     "data": {
      "text/plain": [
       "(b'#|\\xe0\\xfdy\\xc6\\x05_M\\xc9\\xe6\\x00\\xf4\\xd2\\x1a<',\n",
       " b\"\\xf8\\xc4\\xba\\xbflEF'\\xe0\\x0b\\xecZ\\x805\\x0c\\xc0\",\n",
       " b'\\xf0\\x9e,\\xb1W[kaH\\x9c\\x15v\\t\\xcf\\xcd0',\n",
       " b'1\\xf8\\xf3\\xb2h\\xe4[\\xfd}\\x0c\\xe0\\x16\\x90\\x10\\x88o',\n",
       " b'\\x856\\xcd,\\xd3\\xb7#\\x18Z\\x97\\x8eZ\\xe9\\xa7\\xad\\x80')"
      ]
     },
     "execution_count": 442,
     "metadata": {},
     "output_type": "execute_result"
    }
   ],
   "source": [
    "IV, C0, C1, C2, C3 = B(p1b)\n",
    "IV, C0, C1, C2, C3"
   ]
  },
  {
   "cell_type": "code",
   "execution_count": 443,
   "metadata": {},
   "outputs": [
    {
     "data": {
      "text/plain": [
       "(b'eyJpZCI6IDAsICJr',\n",
       " b'ZXkiOiAiRnFFeHhJ',\n",
       " b'UlZSYnBkYllWK1da',\n",
       " b'ZUExZz09In0=\\x04\\x04\\x04\\x04')"
      ]
     },
     "execution_count": 443,
     "metadata": {},
     "output_type": "execute_result"
    }
   ],
   "source": [
    "P0, P1, P2, P3 = B(padding_oracle_attack(IV + C0 + C1 + C2 + C3, padding_oracle))\n",
    "P0, P1, P2, P3"
   ]
  },
  {
   "cell_type": "code",
   "execution_count": 444,
   "metadata": {},
   "outputs": [
    {
     "name": "stdout",
     "output_type": "stream",
     "text": [
      "b'{\"id\": 1, \"admin\": true}\\n\\n\\n\\n\\n\\n\\n\\n\\n\\n\\n\\n\\n\\n\\n\\n\\n\\n\\n\\n' 44\n",
      "b'{\"id\": 3, \"key\": \"d7nBRaab8dcOF5gfvS8x8Q==\"}' 44\n"
     ]
    }
   ],
   "source": [
    "forged_msg = '{\"id\": 1, \"admin\": true}'.ljust(len(b64decode(plain)), '\\n').encode('utf-8')\n",
    "print(forged_msg, len(forged_msg))\n",
    "print(b64decode(plain), len(b64decode(plain)))"
   ]
  },
  {
   "cell_type": "code",
   "execution_count": 445,
   "metadata": {},
   "outputs": [
    {
     "data": {
      "text/plain": [
       "(b'eyJpZCI6IDEsICJh',\n",
       " b'ZG1pbiI6IHRydWV9',\n",
       " b'CgoKCgoKCgoKCgoK',\n",
       " b'CgoKCgoKCgo=\\x04\\x04\\x04\\x04')"
      ]
     },
     "execution_count": 445,
     "metadata": {},
     "output_type": "execute_result"
    }
   ],
   "source": [
    "F0, F1, F2, F3 = B(pad(b64encode(forged_msg)))\n",
    "F0, F1, F2, F3"
   ]
  },
  {
   "cell_type": "code",
   "execution_count": 446,
   "metadata": {},
   "outputs": [],
   "source": [
    "D3 = fixed_xor(C2, P3)"
   ]
  },
  {
   "cell_type": "code",
   "execution_count": 447,
   "metadata": {},
   "outputs": [],
   "source": [
    "C2_prime = fixed_xor(D3, F3)"
   ]
  },
  {
   "cell_type": "code",
   "execution_count": 448,
   "metadata": {},
   "outputs": [
    {
     "data": {
      "text/plain": [
       "[b'eyJpZCI6IDAsICJr',\n",
       " b'ZXkiOiAiRnFFeHhJ',\n",
       " b'\\xef\\xb0u7S0\\xe8\\xb1\\xed\\xb6\\xfch\\xab\\xd4s\\x99',\n",
       " b'CgoKCgoKCgo=\\x04\\x04\\x04\\x04']"
      ]
     },
     "execution_count": 448,
     "metadata": {},
     "output_type": "execute_result"
    }
   ],
   "source": [
    "res = B(padding_oracle_attack(IV + C0 + C1 + C2_prime + C3, padding_oracle))\n",
    "assert P0 == res[0]\n",
    "assert P1 == res[1]\n",
    "assert F3 == res[3]\n",
    "P2_prime = res[2]\n",
    "res"
   ]
  },
  {
   "cell_type": "code",
   "execution_count": 449,
   "metadata": {},
   "outputs": [],
   "source": [
    "D2_prime = fixed_xor(C1, P2_prime)"
   ]
  },
  {
   "cell_type": "code",
   "execution_count": 450,
   "metadata": {},
   "outputs": [],
   "source": [
    "C1_prime = fixed_xor(D2_prime, F2)"
   ]
  },
  {
   "cell_type": "code",
   "execution_count": 451,
   "metadata": {},
   "outputs": [
    {
     "data": {
      "text/plain": [
       "[b'eyJpZCI6IDAsICJr',\n",
       " b'\"\\xcf\\xcc\\xcf\\xa8\\xd8\\xbe$\\xf2\\x00\\x9a{p\\xa1$U',\n",
       " b'CgoKCgoKCgoKCgoK',\n",
       " b'CgoKCgoKCgo=\\x04\\x04\\x04\\x04']"
      ]
     },
     "execution_count": 451,
     "metadata": {},
     "output_type": "execute_result"
    }
   ],
   "source": [
    "res = B(padding_oracle_attack(IV + C0 + C1_prime + C2_prime + C3, padding_oracle))\n",
    "assert P0 == res[0]\n",
    "P1_prime = res[1]\n",
    "assert F2 == res[2]\n",
    "assert F3 == res[3]\n",
    "res"
   ]
  },
  {
   "cell_type": "code",
   "execution_count": 452,
   "metadata": {},
   "outputs": [
    {
     "data": {
      "text/plain": [
       "[b'\\x13\\xd4C\\x1a\\x1a\\x13H;\\xae\\xf4\\xd3\\xe14\\xe6:\\xcd',\n",
       " b'ZG1pbiI6IHRydWV9',\n",
       " b'CgoKCgoKCgoKCgoK',\n",
       " b'CgoKCgoKCgo=\\x04\\x04\\x04\\x04']"
      ]
     },
     "execution_count": 452,
     "metadata": {},
     "output_type": "execute_result"
    }
   ],
   "source": [
    "D1_prime = fixed_xor(C0, P1_prime)\n",
    "C0_prime = fixed_xor(D1_prime, F1)\n",
    "res = B(padding_oracle_attack(IV + C0_prime + C1_prime + C2_prime + C3, padding_oracle))\n",
    "P0_prime = res[0]\n",
    "assert F1 == res[1]\n",
    "assert F2 == res[2]\n",
    "assert F3 == res[3]\n",
    "res"
   ]
  },
  {
   "cell_type": "code",
   "execution_count": 453,
   "metadata": {},
   "outputs": [
    {
     "data": {
      "text/plain": [
       "[b'eyJpZCI6IDEsICJh',\n",
       " b'ZG1pbiI6IHRydWV9',\n",
       " b'CgoKCgoKCgoKCgoK',\n",
       " b'CgoKCgoKCgo=\\x04\\x04\\x04\\x04']"
      ]
     },
     "execution_count": 453,
     "metadata": {},
     "output_type": "execute_result"
    }
   ],
   "source": [
    "D0_prime = fixed_xor(IV, P0_prime)\n",
    "IV_prime = fixed_xor(D0_prime, F0)\n",
    "res = B(padding_oracle_attack(IV_prime + C0_prime + C1_prime + C2_prime + C3, padding_oracle))\n",
    "assert F0 == res[0]\n",
    "assert F1 == res[1]\n",
    "assert F2 == res[2]\n",
    "assert F3 == res[3]\n",
    "res"
   ]
  },
  {
   "cell_type": "code",
   "execution_count": 454,
   "metadata": {},
   "outputs": [
    {
     "data": {
      "text/plain": [
       "'Hi admin, your static key is b\\'\\\\x9e\\\\x7f\"\\\\xe1\\\\xab\\\\xef\\\\xdd\\\\xa9&8\\\\x90\\\\x1eR\\\\xb6\\\\xbc\\\\xab\\''"
      ]
     },
     "execution_count": 454,
     "metadata": {},
     "output_type": "execute_result"
    }
   ],
   "source": [
    "p.get(b64encode(IV_prime + C0_prime + C1_prime + C2_prime + C3))"
   ]
  },
  {
   "cell_type": "markdown",
   "metadata": {},
   "source": [
    "⚠️ No need for a padding attack on the whole cipher, only the relevant block"
   ]
  },
  {
   "cell_type": "code",
   "execution_count": null,
   "metadata": {},
   "outputs": [],
   "source": []
  }
 ],
 "metadata": {
  "kernelspec": {
   "display_name": "latching-4agi86rc-py3.10",
   "language": "python",
   "name": "python3"
  },
  "language_info": {
   "codemirror_mode": {
    "name": "ipython",
    "version": 3
   },
   "file_extension": ".py",
   "mimetype": "text/x-python",
   "name": "python",
   "nbconvert_exporter": "python",
   "pygments_lexer": "ipython3",
   "version": "3.12.5"
  },
  "orig_nbformat": 4
 },
 "nbformat": 4,
 "nbformat_minor": 2
}
