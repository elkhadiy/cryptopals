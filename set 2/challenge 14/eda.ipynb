{
 "cells": [
  {
   "cell_type": "code",
   "execution_count": 12,
   "metadata": {},
   "outputs": [],
   "source": [
    "from cryptography.hazmat.primitives.ciphers import Cipher, algorithms, modes\n",
    "from cryptography.hazmat.primitives import padding\n",
    "import numpy as np\n",
    "import base64\n",
    "from collections import defaultdict\n",
    "\n",
    "def ecb(plain, key):\n",
    "    aes = Cipher(algorithms.AES128(key), modes.ECB()).encryptor()\n",
    "    pad = padding.PKCS7(128).padder()\n",
    "    return aes.update(pad.update(plain) + pad.finalize()) + aes.finalize()\n",
    "\n",
    "def pkcs7(b, size=128):\n",
    "    bsz = len(b)\n",
    "    size //= 8\n",
    "    sz = size * (bsz // size + 1)\n",
    "    return b + bytes([sz - bsz]) * (sz - bsz)\n",
    "\n",
    "def uses_ecb(cipher):\n",
    "    counts = defaultdict(int)\n",
    "\n",
    "    encrypted = cipher(b'A' * 52)\n",
    "\n",
    "    for blk in np.frombuffer(encrypted, 'u1').reshape(-1, 16):\n",
    "        counts[blk.tobytes()] += 1\n",
    "    \n",
    "    return np.any(np.array(list(counts.values())) > 1)\n",
    "\n",
    "def cipher_blksz(cipher):\n",
    "    p = b\"\"\n",
    "    e = cipher(p)\n",
    "    s = len(e)\n",
    "    offset = 0\n",
    "    while s == len(e):\n",
    "        p += b'A'\n",
    "        e = cipher(p)\n",
    "        offset += 1\n",
    "    return len(e) - s, offset\n",
    "\n",
    "def sb_ecb_break(cipher):\n",
    "    \"\"\"Single-Byte (Byte-at-a-time) ECB decryption (Simple: no prefix)\"\"\"\n",
    "\n",
    "    blksz, _ = cipher_blksz(cipher)\n",
    "\n",
    "    if not uses_ecb(cipher):\n",
    "        return -1\n",
    "\n",
    "    tgtsz = len(cipher(b\"\"))\n",
    "\n",
    "    plain = b'A' * blksz\n",
    "\n",
    "    for i in range(tgtsz):\n",
    "        crafted = b'A' * (blksz - (i % blksz) - 1)\n",
    "        crafted = cipher(crafted)\n",
    "        crafted = [crafted[i:i+blksz] for i in range(0, len(crafted), blksz)]\n",
    "\n",
    "        brute = [cipher(plain[-(blksz - 1):] + bytes([i])) for i in range(128)]\n",
    "        brute = [[b[i:i+blksz] for i in range(0, len(b), blksz)] for b in brute]\n",
    "\n",
    "        for j, b in enumerate(brute):\n",
    "            if crafted[i // blksz] == b[0]:\n",
    "                plain += bytes([j])\n",
    "                break\n",
    "    \n",
    "    return plain[16:]\n",
    "\n",
    "def get_prefix_size(cipher):\n",
    "    blksz, _ = cipher_blksz(cipher)\n",
    "\n",
    "    ini = cipher(b\"\")\n",
    "    ini_blks = [ini[i:i+blksz] for i in range(0, len(ini), blksz)]\n",
    "    p = b\"A\"\n",
    "    e = cipher(p)\n",
    "    e_blks = [e[i:i+blksz] for i in range(0, len(e), blksz)]\n",
    "\n",
    "    # get initial potential full blocks\n",
    "    i = 0\n",
    "    while ini_blks[i] == e_blks[i]:\n",
    "        i += 1\n",
    "    psz = i * blksz\n",
    "\n",
    "    pblk = ini_blks[i]\n",
    "    nblk = e_blks[i]\n",
    "\n",
    "    while pblk != nblk:\n",
    "        p += b\"A\"\n",
    "        e = cipher(p)\n",
    "        e_blks = [e[i:i+blksz] for i in range(0, len(e), blksz)]\n",
    "        pblk = nblk\n",
    "        nblk = e_blks[i]\n",
    "    \n",
    "    return psz + blksz - len(p) + 1"
   ]
  },
  {
   "cell_type": "code",
   "execution_count": 3,
   "metadata": {},
   "outputs": [],
   "source": [
    "K = np.random.bytes(16)\n",
    "P = np.random.bytes(np.random.randint(5, 40))\n",
    "S = b'Um9sbGluJyBpbiBteSA1LjAKV2l0aCBteSByYWctdG9wIGRvd24gc28gbXkgaGFpciBjYW4gYmxvdwpUaGUgZ2lybGllcyBvbiBzdGFuZGJ5IHdhdmluZyBqdXN0IHRvIHNheSBoaQpEaWQgeW91IHN0b3A/IE5vLCBJIGp1c3QgZHJvdmUgYnkK'\n"
   ]
  },
  {
   "cell_type": "code",
   "execution_count": 4,
   "metadata": {},
   "outputs": [],
   "source": [
    "def encryption_oracle(plain, key=K, secret=S):\n",
    "    plain = pkcs7(P + plain + base64.decodebytes(secret))\n",
    "    return ecb(plain, key)"
   ]
  },
  {
   "cell_type": "code",
   "execution_count": 5,
   "metadata": {},
   "outputs": [],
   "source": [
    "def forged_oracle(oracle):\n",
    "    blksz, _ = cipher_blksz(oracle)\n",
    "    psz = get_prefix_size(oracle)\n",
    "    ppad = blksz - psz % blksz\n",
    "    return lambda plain: oracle(b'A' * ppad + plain)[(psz // blksz + 1) * blksz:]"
   ]
  },
  {
   "cell_type": "code",
   "execution_count": 6,
   "metadata": {},
   "outputs": [
    {
     "name": "stdout",
     "output_type": "stream",
     "text": [
      "Rollin' in my 5.0\n",
      "With my rag-top down so my hair can blow\n",
      "The girlies on standby waving just to say hi\n",
      "Did you stop? No, I just drove by\n",
      "\u0001?????????????????????\n"
     ]
    }
   ],
   "source": [
    "print(sb_ecb_break(forged_oracle(encryption_oracle)).decode())"
   ]
  },
  {
   "cell_type": "code",
   "execution_count": 7,
   "metadata": {},
   "outputs": [],
   "source": [
    "def sanitize(s):\n",
    "    return s.replace(b'&', b'').replace(b'=', b'')\n",
    "\n",
    "def sanitize1(s):\n",
    "    return s.replace(b'&', b'')\n",
    "\n",
    "def sanitize2(s):\n",
    "    return s.replace(b'=', b'')"
   ]
  },
  {
   "cell_type": "code",
   "execution_count": 8,
   "metadata": {},
   "outputs": [],
   "source": [
    "def profile_oracle(email):\n",
    "    return ecb(b'email=' + sanitize(email) + b'&uid=10&role=user', K)\n",
    "\n",
    "def profile_oracle1(email):\n",
    "    return ecb(b'email=' + sanitize1(email) + b'&uid=10&role=user', K)\n",
    "\n",
    "def profile_oracle2(email):\n",
    "    return ecb(b'email=' + sanitize2(email) + b'&uid=10&role=user', K)"
   ]
  },
  {
   "cell_type": "code",
   "execution_count": 13,
   "metadata": {},
   "outputs": [
    {
     "data": {
      "text/plain": [
       "b'&&&&&&&&&&&&&&&&'"
      ]
     },
     "execution_count": 13,
     "metadata": {},
     "output_type": "execute_result"
    }
   ],
   "source": [
    "sb_ecb_break(forged_oracle(profile_oracle))"
   ]
  },
  {
   "cell_type": "code",
   "execution_count": 14,
   "metadata": {},
   "outputs": [
    {
     "data": {
      "text/plain": [
       "b'&&&&&&&&&&&&&&&&'"
      ]
     },
     "execution_count": 14,
     "metadata": {},
     "output_type": "execute_result"
    }
   ],
   "source": [
    "sb_ecb_break(forged_oracle(profile_oracle1))"
   ]
  },
  {
   "cell_type": "code",
   "execution_count": 15,
   "metadata": {},
   "outputs": [
    {
     "data": {
      "text/plain": [
       "b'&uid'"
      ]
     },
     "execution_count": 15,
     "metadata": {},
     "output_type": "execute_result"
    }
   ],
   "source": [
    "sb_ecb_break(forged_oracle(profile_oracle2))"
   ]
  },
  {
   "attachments": {},
   "cell_type": "markdown",
   "metadata": {},
   "source": [
    "sanitazation makes it so we can't feed some bytes through the oracle which breaks this hack"
   ]
  }
 ],
 "metadata": {
  "kernelspec": {
   "display_name": "latching-4agi86rc-py3.10",
   "language": "python",
   "name": "python3"
  },
  "language_info": {
   "codemirror_mode": {
    "name": "ipython",
    "version": 3
   },
   "file_extension": ".py",
   "mimetype": "text/x-python",
   "name": "python",
   "nbconvert_exporter": "python",
   "pygments_lexer": "ipython3",
   "version": "3.10.6"
  },
  "orig_nbformat": 4
 },
 "nbformat": 4,
 "nbformat_minor": 2
}
