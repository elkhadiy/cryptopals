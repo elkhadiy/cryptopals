{
 "cells": [
  {
   "cell_type": "code",
   "execution_count": 21,
   "metadata": {},
   "outputs": [],
   "source": [
    "from cryptography.hazmat.primitives.ciphers import Cipher, algorithms, modes\n",
    "from cryptography.hazmat.primitives import padding\n",
    "import numpy as np\n",
    "import base64\n",
    "from collections import defaultdict\n",
    "\n",
    "def ecb(plain, key):\n",
    "    aes = Cipher(algorithms.AES128(key), modes.ECB()).encryptor()\n",
    "    pad = padding.PKCS7(128).padder()\n",
    "    return aes.update(pad.update(plain) + pad.finalize()) + aes.finalize()\n",
    "\n",
    "def pkcs7(b, size=128):\n",
    "    bsz = len(b)\n",
    "    size //= 8\n",
    "    sz = size * (bsz // size + 1)\n",
    "    return b + bytes([sz - bsz]) * (sz - bsz)\n",
    "\n",
    "def uses_ecb(cipher):\n",
    "    counts = defaultdict(int)\n",
    "\n",
    "    encrypted = cipher(b'A' * 52)\n",
    "\n",
    "    for blk in np.frombuffer(encrypted, 'u1').reshape(-1, 16):\n",
    "        counts[blk.tobytes()] += 1\n",
    "    \n",
    "    return np.any(np.array(list(counts.values())) > 1)"
   ]
  },
  {
   "cell_type": "code",
   "execution_count": 22,
   "metadata": {},
   "outputs": [],
   "source": [
    "K = np.random.bytes(16)\n",
    "S = b'Um9sbGluJyBpbiBteSA1LjAKV2l0aCBteSByYWctdG9wIGRvd24gc28gbXkgaGFpciBjYW4gYmxvdwpUaGUgZ2lybGllcyBvbiBzdGFuZGJ5IHdhdmluZyBqdXN0IHRvIHNheSBoaQpEaWQgeW91IHN0b3A/IE5vLCBJIGp1c3QgZHJvdmUgYnkK'\n"
   ]
  },
  {
   "cell_type": "code",
   "execution_count": 23,
   "metadata": {},
   "outputs": [],
   "source": [
    "def encryption_oracle(plain, key=K, secret=S):\n",
    "    plain = pkcs7(plain + base64.decodebytes(secret))\n",
    "    return ecb(plain, key)\n"
   ]
  },
  {
   "cell_type": "code",
   "execution_count": 24,
   "metadata": {},
   "outputs": [],
   "source": [
    "def cipher_blksz(cipher):\n",
    "    p = b\"\"\n",
    "    e = cipher(p)\n",
    "    s = len(e)\n",
    "    while s == len(e):\n",
    "        p += b'A'\n",
    "        e = cipher(p)\n",
    "    return len(e) - s\n"
   ]
  },
  {
   "cell_type": "code",
   "execution_count": 25,
   "metadata": {},
   "outputs": [
    {
     "data": {
      "text/plain": [
       "16"
      ]
     },
     "execution_count": 25,
     "metadata": {},
     "output_type": "execute_result"
    }
   ],
   "source": [
    "cipher_blksz(encryption_oracle)"
   ]
  },
  {
   "cell_type": "code",
   "execution_count": 26,
   "metadata": {},
   "outputs": [
    {
     "data": {
      "text/plain": [
       "True"
      ]
     },
     "execution_count": 26,
     "metadata": {},
     "output_type": "execute_result"
    }
   ],
   "source": [
    "uses_ecb(encryption_oracle)"
   ]
  },
  {
   "cell_type": "code",
   "execution_count": 27,
   "metadata": {},
   "outputs": [],
   "source": [
    "def sb_ecb_break(cipher):\n",
    "    \"\"\"Single-Byte (Byte-at-a-time) ECB decryption (Simple: no prefix)\"\"\"\n",
    "\n",
    "    blksz = cipher_blksz(cipher)\n",
    "\n",
    "    if not uses_ecb(cipher):\n",
    "        return -1\n",
    "\n",
    "    tgtsz = len(cipher(b\"\"))\n",
    "\n",
    "    plain = b'A' * blksz\n",
    "\n",
    "    for i in range(tgtsz):\n",
    "        crafted = b'A' * (blksz - (i % blksz) - 1)\n",
    "        crafted = cipher(crafted)\n",
    "        crafted = [crafted[i:i+blksz] for i in range(0, len(crafted), blksz)]\n",
    "\n",
    "        brute = [cipher(plain[-(blksz - 1):] + bytes([i])) for i in range(128)]\n",
    "        brute = [[b[i:i+blksz] for i in range(0, len(b), blksz)] for b in brute]\n",
    "        \n",
    "        for j, b in enumerate(brute):\n",
    "            if crafted[i // blksz] == b[0]:\n",
    "                plain += bytes([j])\n",
    "                break\n",
    "    \n",
    "    return plain[16:]\n"
   ]
  },
  {
   "cell_type": "code",
   "execution_count": 28,
   "metadata": {},
   "outputs": [
    {
     "name": "stdout",
     "output_type": "stream",
     "text": [
      "Rollin' in my 5.0\n",
      "With my rag-top down so my hair can blow\n",
      "The girlies on standby waving just to say hi\n",
      "Did you stop? No, I just drove by\n",
      "\u0001\n"
     ]
    }
   ],
   "source": [
    "print(sb_ecb_break(encryption_oracle).decode())"
   ]
  },
  {
   "cell_type": "code",
   "execution_count": 29,
   "metadata": {},
   "outputs": [
    {
     "name": "stdout",
     "output_type": "stream",
     "text": [
      "Rollin' in my 5.0\n",
      "With my rag-top down so my hair can blow\n",
      "The girlies on standby waving just to say hi\n",
      "Did you stop? No, I just drove by\n",
      "\n"
     ]
    }
   ],
   "source": [
    "print(base64.decodebytes(S).decode())"
   ]
  },
  {
   "cell_type": "code",
   "execution_count": null,
   "metadata": {},
   "outputs": [],
   "source": []
  }
 ],
 "metadata": {
  "kernelspec": {
   "display_name": "latching-4agi86rc-py3.10",
   "language": "python",
   "name": "python3"
  },
  "language_info": {
   "codemirror_mode": {
    "name": "ipython",
    "version": 3
   },
   "file_extension": ".py",
   "mimetype": "text/x-python",
   "name": "python",
   "nbconvert_exporter": "python",
   "pygments_lexer": "ipython3",
   "version": "3.10.6"
  },
  "orig_nbformat": 4
 },
 "nbformat": 4,
 "nbformat_minor": 2
}
