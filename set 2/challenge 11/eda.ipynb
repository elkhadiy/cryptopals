{
 "cells": [
  {
   "cell_type": "code",
   "execution_count": 26,
   "metadata": {},
   "outputs": [],
   "source": [
    "import numpy as np\n",
    "\n",
    "from cryptography.hazmat.primitives.ciphers import Cipher, algorithms, modes\n",
    "\n",
    "from collections import defaultdict\n",
    "\n",
    "def fixed_xor(b1, b2):\n",
    "    a = np.frombuffer(b1, 'u1')\n",
    "    b = np.frombuffer(b2, 'u1')\n",
    "    return (a ^ b).tobytes()\n",
    "\n",
    "def cbc(plain, key, iv):\n",
    "\n",
    "    aes = Cipher(algorithms.AES128(key), modes.ECB()).encryptor()\n",
    "\n",
    "    cipher = b''\n",
    "    cipher_blk = iv\n",
    "\n",
    "    plain_blks = np.frombuffer(plain, 'u1').reshape(-1, 16)\n",
    "\n",
    "    for blk in plain_blks:\n",
    "        cipher_blk = aes.update(fixed_xor(blk.tobytes(), cipher_blk))\n",
    "        cipher += cipher_blk\n",
    "    \n",
    "    return cipher\n",
    "\n",
    "def ecb(plain, key):\n",
    "    aes = Cipher(algorithms.AES128(key), modes.ECB()).encryptor()\n",
    "    return aes.update(plain)\n",
    "\n",
    "def pkcs7(b, size=128):\n",
    "    bsz = len(b)\n",
    "    size //= 8\n",
    "    sz = size * (bsz // size + 1)\n",
    "    return b + bytes([sz - bsz]) * (sz - bsz)"
   ]
  },
  {
   "cell_type": "code",
   "execution_count": 2,
   "metadata": {},
   "outputs": [],
   "source": [
    "rand_key = lambda: np.random.bytes(16)"
   ]
  },
  {
   "cell_type": "code",
   "execution_count": 45,
   "metadata": {},
   "outputs": [],
   "source": [
    "def encryption_oracle(plain):\n",
    "    \"\"\"Emulates an unkown encryption oracle that might either use ECB or CBC modes\"\"\"\n",
    "\n",
    "    key = rand_key()\n",
    "\n",
    "    prefix = np.random.bytes(np.random.randint(5, 11))\n",
    "    suffix = np.random.bytes(np.random.randint(5, 11))\n",
    "\n",
    "    plain = pkcs7(prefix + plain + suffix)\n",
    "    plain_blks = np.frombuffer(plain, 'u1').reshape(-1, 16)\n",
    "\n",
    "    cipher = b''\n",
    "\n",
    "    for blk in plain_blks:\n",
    "        if np.random.randint(1, 3) % 2:\n",
    "            cipher += ecb(blk.tobytes(), key)\n",
    "        else:\n",
    "            cipher += cbc(blk.tobytes(), key, rand_key())\n",
    "    \n",
    "    return cipher"
   ]
  },
  {
   "cell_type": "code",
   "execution_count": 40,
   "metadata": {},
   "outputs": [],
   "source": [
    "def detect(cipher):\n",
    "    counts = defaultdict(int)\n",
    "\n",
    "    for blk in np.frombuffer(cipher, 'u1').reshape(-1, 16):\n",
    "        counts[blk.tobytes()] += 1\n",
    "    \n",
    "    return 'ecb' if np.any(np.array(list(counts.values())) > 1) else 'cbc'"
   ]
  },
  {
   "cell_type": "code",
   "execution_count": 44,
   "metadata": {},
   "outputs": [
    {
     "data": {
      "text/plain": [
       "'ecb'"
      ]
     },
     "execution_count": 44,
     "metadata": {},
     "output_type": "execute_result"
    }
   ],
   "source": [
    "detect(encryption_oracle(b'A' * (20+16*2)))"
   ]
  },
  {
   "cell_type": "code",
   "execution_count": null,
   "metadata": {},
   "outputs": [],
   "source": []
  }
 ],
 "metadata": {
  "kernelspec": {
   "display_name": "latching-4agi86rc-py3.10",
   "language": "python",
   "name": "python3"
  },
  "language_info": {
   "codemirror_mode": {
    "name": "ipython",
    "version": 3
   },
   "file_extension": ".py",
   "mimetype": "text/x-python",
   "name": "python",
   "nbconvert_exporter": "python",
   "pygments_lexer": "ipython3",
   "version": "3.10.6"
  },
  "orig_nbformat": 4
 },
 "nbformat": 4,
 "nbformat_minor": 2
}
