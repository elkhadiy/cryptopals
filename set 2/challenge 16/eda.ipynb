{
 "cells": [
  {
   "cell_type": "code",
   "execution_count": 23,
   "metadata": {},
   "outputs": [],
   "source": [
    "import numpy as np\n",
    "from cryptography.hazmat.primitives.ciphers import Cipher, algorithms, modes\n",
    "from cryptography.hazmat.primitives import padding\n",
    "\n",
    "def fixed_xor(b1, b2):\n",
    "    a = np.frombuffer(b1, 'u1')\n",
    "    b = np.frombuffer(b2, 'u1')\n",
    "    return (a ^ b).tobytes()"
   ]
  },
  {
   "cell_type": "code",
   "execution_count": 6,
   "metadata": {},
   "outputs": [],
   "source": [
    "K = np.random.bytes(16)\n",
    "IV = np.random.bytes(16)"
   ]
  },
  {
   "cell_type": "code",
   "execution_count": 14,
   "metadata": {},
   "outputs": [],
   "source": [
    "def create_encrypted_session(userdata, key=K, iv=IV):\n",
    "    P0 = b\"comment1=cooking%20MCs;userdata=\"\n",
    "    P1 = b\";comment2=%20like%20a%20pound%20of%20bacon\"\n",
    "    userdata = userdata.replace(b';', b'').replace(b'=', b'')\n",
    "\n",
    "    padder = padding.PKCS7(128).padder()\n",
    "\n",
    "    data = padder.update(P0 + userdata + P1) + padder.finalize()\n",
    "\n",
    "    aes = Cipher(algorithms.AES128(key), modes.CBC(iv)).encryptor()\n",
    "\n",
    "    return aes.update(data) + aes.finalize()"
   ]
  },
  {
   "cell_type": "code",
   "execution_count": 27,
   "metadata": {},
   "outputs": [],
   "source": [
    "def decrypt_session(encrypted_session, key=K, iv=IV):\n",
    "    aes = Cipher(algorithms.AES128(key), modes.CBC(iv)).decryptor()\n",
    "    return aes.update(encrypted_session) + aes.finalize()\n",
    "\n",
    "def is_admin(encrypted_session):\n",
    "    plain = decrypt_session(encrypted_session)\n",
    "    return b';admin=true;' in plain"
   ]
  },
  {
   "cell_type": "code",
   "execution_count": 34,
   "metadata": {},
   "outputs": [],
   "source": [
    "session = create_encrypted_session(b'A' * 32)"
   ]
  },
  {
   "cell_type": "code",
   "execution_count": 58,
   "metadata": {},
   "outputs": [
    {
     "data": {
      "text/plain": [
       "[b'comment1=cooking',\n",
       " b'%20MCs;userdata=',\n",
       " b'\\xf8|\\xe9\\x190\\xbaQ\\xbe#m\\xd0Q\\x84%\\xe1G',\n",
       " b'00;admin=true;00',\n",
       " b';comment2=%20lik',\n",
       " b'e%20a%20pound%20',\n",
       " b'of%20bacon\\x06\\x06\\x06\\x06\\x06\\x06']"
      ]
     },
     "execution_count": 58,
     "metadata": {},
     "output_type": "execute_result"
    }
   ],
   "source": [
    "blks = lambda s: [s[i:i+16] for i in range(0, len(s), 16)]\n",
    "\n",
    "session_blks = blks(session)\n",
    "\n",
    "n = 2\n",
    "\n",
    "session_blks[n] = b'\\x00' * 16\n",
    "\n",
    "# a ^ b = c\n",
    "# b = a ^ c\n",
    "\n",
    "a = blks(decrypt_session(b''.join(session_blks)))[n + 1]\n",
    "c = b'00;admin=true;00'\n",
    "b = fixed_xor(a, c)\n",
    "\n",
    "session_blks = blks(session)\n",
    "\n",
    "session_blks[n] = b\n",
    "\n",
    "blks(decrypt_session(b''.join(session_blks)))"
   ]
  },
  {
   "cell_type": "code",
   "execution_count": 57,
   "metadata": {},
   "outputs": [
    {
     "data": {
      "text/plain": [
       "True"
      ]
     },
     "execution_count": 57,
     "metadata": {},
     "output_type": "execute_result"
    }
   ],
   "source": [
    "is_admin(b''.join(session_blks))"
   ]
  },
  {
   "attachments": {},
   "cell_type": "markdown",
   "metadata": {},
   "source": [
    "This works because there is no message authentication. Nothing to check that the cipher text hasn't been tempered with."
   ]
  },
  {
   "cell_type": "code",
   "execution_count": null,
   "metadata": {},
   "outputs": [],
   "source": []
  }
 ],
 "metadata": {
  "kernelspec": {
   "display_name": "latching-4agi86rc-py3.10",
   "language": "python",
   "name": "python3"
  },
  "language_info": {
   "codemirror_mode": {
    "name": "ipython",
    "version": 3
   },
   "file_extension": ".py",
   "mimetype": "text/x-python",
   "name": "python",
   "nbconvert_exporter": "python",
   "pygments_lexer": "ipython3",
   "version": "3.10.6"
  },
  "orig_nbformat": 4
 },
 "nbformat": 4,
 "nbformat_minor": 2
}
