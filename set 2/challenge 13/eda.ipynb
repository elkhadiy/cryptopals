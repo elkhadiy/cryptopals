{
 "cells": [
  {
   "cell_type": "code",
   "execution_count": 206,
   "metadata": {},
   "outputs": [],
   "source": [
    "# from urllib.parse import quote_from_bytes, unquote_to_bytes\n",
    "# import uuid\n",
    "import numpy as np\n",
    "from cryptography.hazmat.primitives.ciphers import Cipher, algorithms, modes\n",
    "from cryptography.hazmat.primitives import padding\n",
    "\n",
    "def pkcs7(b, size=128, v=b''):\n",
    "    bsz = len(b)\n",
    "    size //= 8\n",
    "    sz = size * (bsz // size + 1)\n",
    "    pad = v if v else bytes([sz - bsz])\n",
    "    return b + pad * (sz - bsz)\n",
    "\n",
    "def cipher(plain, key=K):\n",
    "    aes = Cipher(algorithms.AES128(key), modes.ECB()).encryptor()\n",
    "    pad = padding.PKCS7(128).padder()\n",
    "    return aes.update(pad.update(plain) + pad.finalize()) + aes.finalize()\n",
    "\n",
    "def decipher(ciphered, key=K):\n",
    "    aes = Cipher(algorithms.AES128(key), modes.ECB()).decryptor()\n",
    "    upad = padding.PKCS7(128).unpadder()\n",
    "    return upad.update(aes.update(ciphered) + aes.finalize()) + upad.finalize()\n",
    "\n",
    "def cipher_blksz(cipher):\n",
    "    p = b\"\"\n",
    "    e = cipher(p)\n",
    "    s = len(e)\n",
    "    offset = 0\n",
    "    while s == len(e):\n",
    "        p += b'A'\n",
    "        e = cipher(p)\n",
    "        offset += 1\n",
    "    return len(e) - s, offset"
   ]
  },
  {
   "cell_type": "code",
   "execution_count": 80,
   "metadata": {},
   "outputs": [],
   "source": [
    "K = np.random.bytes(16)"
   ]
  },
  {
   "cell_type": "code",
   "execution_count": 11,
   "metadata": {},
   "outputs": [],
   "source": [
    "s = b\"foo=bar&baz=qux&zap=zazzle\""
   ]
  },
  {
   "cell_type": "code",
   "execution_count": 422,
   "metadata": {},
   "outputs": [],
   "source": [
    "def sanitize(s):\n",
    "    \"\"\"\n",
    "    Proper sanitazing with urllib's quote_from_bytes makes this attack harder or impossible without compromises on padding values.\n",
    "\n",
    "    Can't even try to insert \\\\0 charater in case the parser expects a null terminated string\n",
    "\n",
    "    Might work if somehow the parser is reaaaally stupid and role=adminXXXXXXXXXXX gets accepted\n",
    "    \"\"\"\n",
    "    # return quote_from_bytes(s)\n",
    "    return s.replace(b'&', b'').replace(b'=', b'')\n",
    "\n",
    "def decode_profile(s):\n",
    "    return {\n",
    "        k: v\n",
    "        for k, v in [x.split(b'=') for x in s.split(b'&')]\n",
    "    }\n",
    "\n",
    "def encode_profile(p):\n",
    "    return b\"&\".join([b\"=\".join([sanitize(i) for i in item]) for item in p.items()])"
   ]
  },
  {
   "cell_type": "code",
   "execution_count": 13,
   "metadata": {},
   "outputs": [
    {
     "data": {
      "text/plain": [
       "{b'foo': b'bar', b'baz': b'qux', b'zap': b'zazzle'}"
      ]
     },
     "execution_count": 13,
     "metadata": {},
     "output_type": "execute_result"
    }
   ],
   "source": [
    "decode_profile(s)"
   ]
  },
  {
   "cell_type": "code",
   "execution_count": 36,
   "metadata": {},
   "outputs": [
    {
     "data": {
      "text/plain": [
       "b'foo=bar&baz=qux&zap=zazzle'"
      ]
     },
     "execution_count": 36,
     "metadata": {},
     "output_type": "execute_result"
    }
   ],
   "source": [
    "encode_profile(decode_profile(s))"
   ]
  },
  {
   "cell_type": "code",
   "execution_count": 313,
   "metadata": {},
   "outputs": [],
   "source": [
    "def profile_for(email):\n",
    "    p = {\n",
    "        b'email': email,\n",
    "        b'uid': b'10',\n",
    "        b'role': b'user'\n",
    "    }\n",
    "    return encode_profile(p)"
   ]
  },
  {
   "cell_type": "code",
   "execution_count": 407,
   "metadata": {},
   "outputs": [
    {
     "name": "stdout",
     "output_type": "stream",
     "text": [
      "b'email=foo@bar.com&uid=10&role=user'\n"
     ]
    },
    {
     "data": {
      "text/plain": [
       "{b'email': b'foo@bar.com', b'uid': b'10', b'role': b'user'}"
      ]
     },
     "execution_count": 407,
     "metadata": {},
     "output_type": "execute_result"
    }
   ],
   "source": [
    "p = profile_for(b'foo@bar.com')\n",
    "print(p)\n",
    "decode_profile(p)"
   ]
  },
  {
   "cell_type": "code",
   "execution_count": 72,
   "metadata": {},
   "outputs": [],
   "source": [
    "def profile_oracle(email):\n",
    "    return cipher(profile_for(email))\n",
    "\n",
    "def decode_ciphered_profile(ciphered):\n",
    "    return decode_profile(decipher(ciphered))"
   ]
  },
  {
   "cell_type": "code",
   "execution_count": 342,
   "metadata": {},
   "outputs": [],
   "source": [
    "P = profile_oracle(b'foo@bar.com')"
   ]
  },
  {
   "cell_type": "code",
   "execution_count": 343,
   "metadata": {},
   "outputs": [
    {
     "data": {
      "text/plain": [
       "{b'email': b'foo@bar.com', b'uid': b'10', b'role': b'user'}"
      ]
     },
     "execution_count": 343,
     "metadata": {},
     "output_type": "execute_result"
    }
   ],
   "source": [
    "decode_ciphered_profile(P)"
   ]
  },
  {
   "cell_type": "code",
   "execution_count": 189,
   "metadata": {},
   "outputs": [],
   "source": [
    "def get_prefix_size(cipher):\n",
    "    blksz, _ = cipher_blksz(cipher)\n",
    "\n",
    "    ini = cipher(b\"\")\n",
    "    ini_blks = [ini[i:i+blksz] for i in range(0, len(ini), blksz)]\n",
    "    p = b\"A\"\n",
    "    e = cipher(p)\n",
    "    e_blks = [e[i:i+blksz] for i in range(0, len(e), blksz)]\n",
    "\n",
    "    # get initial potential full blocks\n",
    "    i = 0\n",
    "    while ini_blks[i] == e_blks[i]:\n",
    "        i += 1\n",
    "    psz = i * blksz\n",
    "\n",
    "    pblk = ini_blks[i]\n",
    "    nblk = e_blks[i]\n",
    "\n",
    "    while pblk != nblk:\n",
    "        p += b\"A\"\n",
    "        e = cipher(p)\n",
    "        e_blks = [e[i:i+blksz] for i in range(0, len(e), blksz)]\n",
    "        pblk = nblk\n",
    "        nblk = e_blks[i]\n",
    "    \n",
    "    return psz + blksz - len(p) + 1\n",
    "\n",
    "\n",
    "def get_suffix_size(cipher):\n",
    "    return len(cipher(b'')) - get_prefix_size(cipher) - cipher_blksz(cipher)[1]"
   ]
  },
  {
   "cell_type": "code",
   "execution_count": 205,
   "metadata": {},
   "outputs": [],
   "source": [
    "def oracle_blk_enc(oracle, plain):\n",
    "    \"\"\"Computes the encrypted block 'cipher(plain)' with the cipher used in 'oracle'\n",
    "    \n",
    "    Args:\n",
    "        oracle (bytes): Given an ECB with fixed unkown key that encrypts a plain text with a prefix and suffix of fixed sizes, encrypt 'plain'\n",
    "        plain (bytes): bytes to be encrypted\n",
    "\n",
    "    Returns:\n",
    "        bytes: Encrypted block\n",
    "    \"\"\"\n",
    "    blksz, _ = cipher_blksz(oracle)\n",
    "\n",
    "    psz = get_prefix_size(oracle)\n",
    "\n",
    "    prefix_offset = blksz - psz % blksz\n",
    "\n",
    "    a = psz // blksz + blksz\n",
    "    b = a + blksz\n",
    "\n",
    "    return oracle(b'A' * prefix_offset + pkcs7(plain))[a:b]\n"
   ]
  },
  {
   "cell_type": "code",
   "execution_count": 207,
   "metadata": {},
   "outputs": [
    {
     "data": {
      "text/plain": [
       "b'\\x8c\\xa4\\x91\\x025x<\\xe2\\xe0p\\xbe\\xac<\\xefMM'"
      ]
     },
     "execution_count": 207,
     "metadata": {},
     "output_type": "execute_result"
    }
   ],
   "source": [
    "oracle_blk_enc(profile_oracle, b'admin')"
   ]
  },
  {
   "cell_type": "code",
   "execution_count": 213,
   "metadata": {},
   "outputs": [],
   "source": [
    "def align_last_blk_to(oracle, plain):\n",
    "    \"\"\"Find offset to align oracle's last block to 'cipher(plain)' (cipher is a cipher used by oracle)\"\"\"\n",
    "    blk = oracle_blk_enc(oracle, plain)\n",
    "    p = b''\n",
    "    e = oracle(p)\n",
    "    blksz, _ = cipher_blksz(oracle)\n",
    "    while e[-blksz:] != blk:\n",
    "        p += b'A'\n",
    "        e = oracle(p)\n",
    "    return len(p)\n"
   ]
  },
  {
   "cell_type": "code",
   "execution_count": 214,
   "metadata": {},
   "outputs": [
    {
     "data": {
      "text/plain": [
       "15"
      ]
     },
     "execution_count": 214,
     "metadata": {},
     "output_type": "execute_result"
    }
   ],
   "source": [
    "align_last_blk_to(profile_oracle, b'user')"
   ]
  },
  {
   "cell_type": "code",
   "execution_count": 314,
   "metadata": {},
   "outputs": [],
   "source": [
    "def forge_admin_profile():\n",
    "    blksz, _ = cipher_blksz(profile_oracle)\n",
    "    admin_blk = oracle_blk_enc(profile_oracle, b'admin')\n",
    "    N = align_last_blk_to(profile_oracle, b'user')\n",
    "    return profile_oracle(b'A' * N)[:-blksz] + admin_blk"
   ]
  },
  {
   "cell_type": "code",
   "execution_count": 315,
   "metadata": {},
   "outputs": [
    {
     "data": {
      "text/plain": [
       "{b'email': b'AAAAAAAAAAAAA', b'uid': b'10', b'role': b'admin'}"
      ]
     },
     "execution_count": 315,
     "metadata": {},
     "output_type": "execute_result"
    }
   ],
   "source": [
    "decode_ciphered_profile(forge_admin_profile())"
   ]
  },
  {
   "cell_type": "code",
   "execution_count": null,
   "metadata": {},
   "outputs": [],
   "source": []
  }
 ],
 "metadata": {
  "kernelspec": {
   "display_name": "latching-4agi86rc-py3.10",
   "language": "python",
   "name": "python3"
  },
  "language_info": {
   "codemirror_mode": {
    "name": "ipython",
    "version": 3
   },
   "file_extension": ".py",
   "mimetype": "text/x-python",
   "name": "python",
   "nbconvert_exporter": "python",
   "pygments_lexer": "ipython3",
   "version": "3.10.6"
  },
  "orig_nbformat": 4
 },
 "nbformat": 4,
 "nbformat_minor": 2
}
