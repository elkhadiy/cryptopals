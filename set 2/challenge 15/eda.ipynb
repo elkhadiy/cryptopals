{
 "cells": [
  {
   "cell_type": "code",
   "execution_count": 68,
   "metadata": {},
   "outputs": [],
   "source": [
    "def unpkcs7(plain):\n",
    "    if 1 <= plain[-1] <= 16 and plain[-plain[-1]:] == bytes([plain[-1]]) * plain[-1]:\n",
    "        return plain[:-plain[-1]]\n",
    "    else:\n",
    "        raise ValueError(\"Bad padding\")"
   ]
  },
  {
   "cell_type": "code",
   "execution_count": 71,
   "metadata": {},
   "outputs": [
    {
     "data": {
      "text/plain": [
       "b'YELLOW SUBMARINE'"
      ]
     },
     "execution_count": 71,
     "metadata": {},
     "output_type": "execute_result"
    }
   ],
   "source": [
    "unpkcs7(b\"YELLOW SUBMARINE\" + b\"\\x04\" * 4)"
   ]
  },
  {
   "cell_type": "code",
   "execution_count": 72,
   "metadata": {},
   "outputs": [
    {
     "ename": "ValueError",
     "evalue": "Bad padding",
     "output_type": "error",
     "traceback": [
      "\u001b[1;31m---------------------------------------------------------------------------\u001b[0m",
      "\u001b[1;31mValueError\u001b[0m                                Traceback (most recent call last)",
      "Cell \u001b[1;32mIn[72], line 1\u001b[0m\n\u001b[1;32m----> 1\u001b[0m unpkcs7(\u001b[39mb\u001b[39;49m\u001b[39m\"\u001b[39;49m\u001b[39mYELLOW SUBMARINE\u001b[39;49m\u001b[39m\"\u001b[39;49m \u001b[39m+\u001b[39;49m \u001b[39mb\u001b[39;49m\u001b[39m\"\u001b[39;49m\u001b[39m\\x05\u001b[39;49;00m\u001b[39m\"\u001b[39;49m \u001b[39m*\u001b[39;49m \u001b[39m4\u001b[39;49m)\n",
      "Cell \u001b[1;32mIn[68], line 5\u001b[0m, in \u001b[0;36munpkcs7\u001b[1;34m(plain)\u001b[0m\n\u001b[0;32m      3\u001b[0m     \u001b[39mreturn\u001b[39;00m plain[:\u001b[39m-\u001b[39mplain[\u001b[39m-\u001b[39m\u001b[39m1\u001b[39m]]\n\u001b[0;32m      4\u001b[0m \u001b[39melse\u001b[39;00m:\n\u001b[1;32m----> 5\u001b[0m     \u001b[39mraise\u001b[39;00m \u001b[39mValueError\u001b[39;00m(\u001b[39m\"\u001b[39m\u001b[39mBad padding\u001b[39m\u001b[39m\"\u001b[39m)\n",
      "\u001b[1;31mValueError\u001b[0m: Bad padding"
     ]
    }
   ],
   "source": [
    "unpkcs7(b\"YELLOW SUBMARINE\" + b\"\\x05\" * 4)"
   ]
  },
  {
   "cell_type": "code",
   "execution_count": 73,
   "metadata": {},
   "outputs": [
    {
     "ename": "ValueError",
     "evalue": "Bad padding",
     "output_type": "error",
     "traceback": [
      "\u001b[1;31m---------------------------------------------------------------------------\u001b[0m",
      "\u001b[1;31mValueError\u001b[0m                                Traceback (most recent call last)",
      "Cell \u001b[1;32mIn[73], line 1\u001b[0m\n\u001b[1;32m----> 1\u001b[0m unpkcs7(\u001b[39mb\u001b[39;49m\u001b[39m\"\u001b[39;49m\u001b[39mYELLOW SUBMARINE\u001b[39;49m\u001b[39m\"\u001b[39;49m \u001b[39m+\u001b[39;49m \u001b[39mb\u001b[39;49m\u001b[39m\"\u001b[39;49m\u001b[39m\\x01\u001b[39;49;00m\u001b[39m\\x02\u001b[39;49;00m\u001b[39m\\x03\u001b[39;49;00m\u001b[39m\\x04\u001b[39;49;00m\u001b[39m\"\u001b[39;49m)\n",
      "Cell \u001b[1;32mIn[68], line 5\u001b[0m, in \u001b[0;36munpkcs7\u001b[1;34m(plain)\u001b[0m\n\u001b[0;32m      3\u001b[0m     \u001b[39mreturn\u001b[39;00m plain[:\u001b[39m-\u001b[39mplain[\u001b[39m-\u001b[39m\u001b[39m1\u001b[39m]]\n\u001b[0;32m      4\u001b[0m \u001b[39melse\u001b[39;00m:\n\u001b[1;32m----> 5\u001b[0m     \u001b[39mraise\u001b[39;00m \u001b[39mValueError\u001b[39;00m(\u001b[39m\"\u001b[39m\u001b[39mBad padding\u001b[39m\u001b[39m\"\u001b[39m)\n",
      "\u001b[1;31mValueError\u001b[0m: Bad padding"
     ]
    }
   ],
   "source": [
    "unpkcs7(b\"YELLOW SUBMARINE\" + b\"\\x01\\x02\\x03\\x04\")"
   ]
  },
  {
   "cell_type": "code",
   "execution_count": 74,
   "metadata": {},
   "outputs": [
    {
     "data": {
      "text/plain": [
       "b'YELLOW SUBMARINE\\x04\\x03\\x02'"
      ]
     },
     "execution_count": 74,
     "metadata": {},
     "output_type": "execute_result"
    }
   ],
   "source": [
    "unpkcs7(b\"YELLOW SUBMARINE\" + b\"\\x04\\x03\\x02\\x01\")"
   ]
  }
 ],
 "metadata": {
  "kernelspec": {
   "display_name": "latching-4agi86rc-py3.10",
   "language": "python",
   "name": "python3"
  },
  "language_info": {
   "codemirror_mode": {
    "name": "ipython",
    "version": 3
   },
   "file_extension": ".py",
   "mimetype": "text/x-python",
   "name": "python",
   "nbconvert_exporter": "python",
   "pygments_lexer": "ipython3",
   "version": "3.10.6"
  },
  "orig_nbformat": 4
 },
 "nbformat": 4,
 "nbformat_minor": 2
}
